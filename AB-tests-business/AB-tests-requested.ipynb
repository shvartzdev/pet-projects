{
 "cells": [
  {
   "metadata": {
    "ExecuteTime": {
     "end_time": "2024-06-21T13:29:08.605194Z",
     "start_time": "2024-06-21T13:29:08.579019Z"
    }
   },
   "cell_type": "code",
   "source": [
    "import pandas as pd\n",
    "import numpy as np\n",
    "import scipy.stats as stats\n",
    "import seaborn as sns\n",
    "import requests as rq\n",
    "\n",
    "from urllib.parse import urlencode\n",
    "import matplotlib.pyplot as plt\n",
    "from datetime import datetime\n"
   ],
   "id": "e6a9bdefbe7591fc",
   "outputs": [],
   "execution_count": 1
  },
  {
   "metadata": {},
   "cell_type": "markdown",
   "source": [
    "Имеются результаты A/B теста, в котором двум группам пользователей предлагались различные наборы акционных предложений. Известно, что ARPU в тестовой группе выше на 5%, чем в контрольной. При этом в контрольной группе 1928 игроков из 202103 оказались платящими, а в тестовой – 1805 из 202667.\n",
    "\n",
    "Какой набор предложений можно считать лучшим? Какие метрики стоит проанализировать для принятия правильного решения и как?"
   ],
   "id": "926bfd33e802db07"
  },
  {
   "metadata": {
    "ExecuteTime": {
     "end_time": "2024-06-21T13:14:42.662299Z",
     "start_time": "2024-06-21T13:14:41.260259Z"
    }
   },
   "cell_type": "code",
   "source": [
    "base_url = 'https://cloud-api.yandex.net/v1/disk/public/resources/download?'\n",
    "customer_data = 'https://disk.yandex.ru/d/SOkIsD5A8xlI7Q'\n",
    "\n",
    "download_url_customer_data = rq.get(base_url + urlencode(dict(public_key=customer_data))).json()['href']\n",
    "download_response = rq.get(download_url_customer_data)\n",
    "ab_tests = pd.read_csv(download_url_customer_data, sep=';')"
   ],
   "id": "4432dbb342d5aab0",
   "outputs": [],
   "execution_count": 2
  },
  {
   "metadata": {},
   "cell_type": "markdown",
   "source": "### Посмотрим на данные",
   "id": "d2b65362b32ded1d"
  },
  {
   "metadata": {
    "ExecuteTime": {
     "end_time": "2024-06-17T10:18:27.872871Z",
     "start_time": "2024-06-17T10:18:27.868182Z"
    }
   },
   "cell_type": "code",
   "source": "ab_tests.shape",
   "id": "9f3bcef810d0064f",
   "outputs": [
    {
     "data": {
      "text/plain": [
       "(404770, 3)"
      ]
     },
     "execution_count": 3,
     "metadata": {},
     "output_type": "execute_result"
    }
   ],
   "execution_count": 3
  },
  {
   "metadata": {
    "ExecuteTime": {
     "end_time": "2024-06-17T10:18:28.352520Z",
     "start_time": "2024-06-17T10:18:28.348111Z"
    }
   },
   "cell_type": "code",
   "source": "ab_tests.dtypes",
   "id": "412a03ab214de262",
   "outputs": [
    {
     "data": {
      "text/plain": [
       "user_id       int64\n",
       "revenue       int64\n",
       "testgroup    object\n",
       "dtype: object"
      ]
     },
     "execution_count": 4,
     "metadata": {},
     "output_type": "execute_result"
    }
   ],
   "execution_count": 4
  },
  {
   "metadata": {
    "ExecuteTime": {
     "end_time": "2024-06-17T10:18:28.698350Z",
     "start_time": "2024-06-17T10:18:28.693407Z"
    }
   },
   "cell_type": "code",
   "source": "ab_tests.head()",
   "id": "9ec52244afc3c6bc",
   "outputs": [
    {
     "data": {
      "text/plain": [
       "   user_id  revenue testgroup\n",
       "0        1        0         b\n",
       "1        2        0         a\n",
       "2        3        0         a\n",
       "3        4        0         b\n",
       "4        5        0         b"
      ],
      "text/html": [
       "<div>\n",
       "<style scoped>\n",
       "    .dataframe tbody tr th:only-of-type {\n",
       "        vertical-align: middle;\n",
       "    }\n",
       "\n",
       "    .dataframe tbody tr th {\n",
       "        vertical-align: top;\n",
       "    }\n",
       "\n",
       "    .dataframe thead th {\n",
       "        text-align: right;\n",
       "    }\n",
       "</style>\n",
       "<table border=\"1\" class=\"dataframe\">\n",
       "  <thead>\n",
       "    <tr style=\"text-align: right;\">\n",
       "      <th></th>\n",
       "      <th>user_id</th>\n",
       "      <th>revenue</th>\n",
       "      <th>testgroup</th>\n",
       "    </tr>\n",
       "  </thead>\n",
       "  <tbody>\n",
       "    <tr>\n",
       "      <th>0</th>\n",
       "      <td>1</td>\n",
       "      <td>0</td>\n",
       "      <td>b</td>\n",
       "    </tr>\n",
       "    <tr>\n",
       "      <th>1</th>\n",
       "      <td>2</td>\n",
       "      <td>0</td>\n",
       "      <td>a</td>\n",
       "    </tr>\n",
       "    <tr>\n",
       "      <th>2</th>\n",
       "      <td>3</td>\n",
       "      <td>0</td>\n",
       "      <td>a</td>\n",
       "    </tr>\n",
       "    <tr>\n",
       "      <th>3</th>\n",
       "      <td>4</td>\n",
       "      <td>0</td>\n",
       "      <td>b</td>\n",
       "    </tr>\n",
       "    <tr>\n",
       "      <th>4</th>\n",
       "      <td>5</td>\n",
       "      <td>0</td>\n",
       "      <td>b</td>\n",
       "    </tr>\n",
       "  </tbody>\n",
       "</table>\n",
       "</div>"
      ]
     },
     "execution_count": 5,
     "metadata": {},
     "output_type": "execute_result"
    }
   ],
   "execution_count": 5
  },
  {
   "metadata": {
    "ExecuteTime": {
     "end_time": "2024-06-17T10:18:28.916175Z",
     "start_time": "2024-06-17T10:18:28.870720Z"
    }
   },
   "cell_type": "code",
   "source": "ab_tests.duplicated().sum()",
   "id": "4a100c9f3e494f87",
   "outputs": [
    {
     "data": {
      "text/plain": [
       "0"
      ]
     },
     "execution_count": 6,
     "metadata": {},
     "output_type": "execute_result"
    }
   ],
   "execution_count": 6
  },
  {
   "metadata": {
    "ExecuteTime": {
     "end_time": "2024-06-17T10:18:29.036977Z",
     "start_time": "2024-06-17T10:18:29.024942Z"
    }
   },
   "cell_type": "code",
   "source": "ab_tests.isna().sum()",
   "id": "8db0db64325edeef",
   "outputs": [
    {
     "data": {
      "text/plain": [
       "user_id      0\n",
       "revenue      0\n",
       "testgroup    0\n",
       "dtype: int64"
      ]
     },
     "execution_count": 7,
     "metadata": {},
     "output_type": "execute_result"
    }
   ],
   "execution_count": 7
  },
  {
   "metadata": {},
   "cell_type": "markdown",
   "source": [
    "### Продуктовые метрики\n",
    "\n",
    "Подсчитаю основные продуктовые метрики для обоих групп. Для этого выделю две группы и для каждой определю метрики:\n",
    "\n",
    "**ARPU** - средний доход с одного пользователя (Общий доход / Количество пользователей)  \n",
    "\n",
    "**Конверсия в платежи** (Paying Conversion Rate) - отношение числа пользователей, совершивших покупку, к общему числу пользователей в группе\n",
    "\n",
    "**Общий доход (Total Revenue)** - сумма всех доходов от пользователей в каждой группе.\n",
    "\n",
    "Основные метрики: \n",
    "- средний доход (ARPU)\n",
    "- конверсия "
   ],
   "id": "bb00c0b8d2207c84"
  },
  {
   "metadata": {},
   "cell_type": "markdown",
   "source": [
    "### Гипотеза для ARPU\n",
    "\n",
    "**H0**: ```ARPU_b = ARPU_a```   \n",
    "**H1:** ```ARPU_b > ARPU_a```    \n",
    "**Alpha:** 0.05\n",
    "\n",
    "размер выборок достаточно большой. Значит, я смогу применить односторонний **t-тест для проверки средних обеих групп (ARPU)**. Согласно ЦПТ, статистика может быть распределена нормально, даже если выборка не распределена нормально. \n",
    "\n",
    "### Гипотеза для конверсий\n",
    "\n",
    "**H0:** ```conv_a = conv_b```  \n",
    "**H1:** ```conv_a > conv_b```  \n",
    "**Alpha:** 0.05\n",
    "\n",
    "Для проверки **конверсии** я воспользуюсь **хи-квадратом** (предварительно составив таблицу сопряжённости с количеством платящих и неплатящих пользователей)"
   ],
   "id": "28f70069374ad18d"
  },
  {
   "metadata": {},
   "cell_type": "markdown",
   "source": "Известно, что ARPU в тестовой группе выше на 5%, чем в контрольной. При этом в контрольной группе 1928 игроков из 202103 оказались платящими, а в тестовой – 1805 из 202667.",
   "id": "3e69cd7ebb6f3555"
  },
  {
   "metadata": {
    "ExecuteTime": {
     "end_time": "2024-06-17T10:18:29.948791Z",
     "start_time": "2024-06-17T10:18:29.927588Z"
    }
   },
   "cell_type": "code",
   "source": [
    "ab_tests_group_a = ab_tests.query('testgroup == \"a\"')\n",
    "ab_tests_group_a = ab_tests_group_a.drop(columns=['testgroup'])\n",
    "ab_tests_group_a.head()"
   ],
   "id": "1a9f8583c75e3de5",
   "outputs": [
    {
     "data": {
      "text/plain": [
       "    user_id  revenue\n",
       "1         2        0\n",
       "2         3        0\n",
       "9        10        0\n",
       "10       11        0\n",
       "11       12        0"
      ],
      "text/html": [
       "<div>\n",
       "<style scoped>\n",
       "    .dataframe tbody tr th:only-of-type {\n",
       "        vertical-align: middle;\n",
       "    }\n",
       "\n",
       "    .dataframe tbody tr th {\n",
       "        vertical-align: top;\n",
       "    }\n",
       "\n",
       "    .dataframe thead th {\n",
       "        text-align: right;\n",
       "    }\n",
       "</style>\n",
       "<table border=\"1\" class=\"dataframe\">\n",
       "  <thead>\n",
       "    <tr style=\"text-align: right;\">\n",
       "      <th></th>\n",
       "      <th>user_id</th>\n",
       "      <th>revenue</th>\n",
       "    </tr>\n",
       "  </thead>\n",
       "  <tbody>\n",
       "    <tr>\n",
       "      <th>1</th>\n",
       "      <td>2</td>\n",
       "      <td>0</td>\n",
       "    </tr>\n",
       "    <tr>\n",
       "      <th>2</th>\n",
       "      <td>3</td>\n",
       "      <td>0</td>\n",
       "    </tr>\n",
       "    <tr>\n",
       "      <th>9</th>\n",
       "      <td>10</td>\n",
       "      <td>0</td>\n",
       "    </tr>\n",
       "    <tr>\n",
       "      <th>10</th>\n",
       "      <td>11</td>\n",
       "      <td>0</td>\n",
       "    </tr>\n",
       "    <tr>\n",
       "      <th>11</th>\n",
       "      <td>12</td>\n",
       "      <td>0</td>\n",
       "    </tr>\n",
       "  </tbody>\n",
       "</table>\n",
       "</div>"
      ]
     },
     "execution_count": 8,
     "metadata": {},
     "output_type": "execute_result"
    }
   ],
   "execution_count": 8
  },
  {
   "metadata": {
    "ExecuteTime": {
     "end_time": "2024-06-17T10:18:30.081173Z",
     "start_time": "2024-06-17T10:18:30.078182Z"
    }
   },
   "cell_type": "code",
   "source": "ab_tests_group_a.shape",
   "id": "73cd13726fa8be9e",
   "outputs": [
    {
     "data": {
      "text/plain": [
       "(202103, 2)"
      ]
     },
     "execution_count": 9,
     "metadata": {},
     "output_type": "execute_result"
    }
   ],
   "execution_count": 9
  },
  {
   "metadata": {
    "ExecuteTime": {
     "end_time": "2024-06-17T10:18:30.241509Z",
     "start_time": "2024-06-17T10:18:30.226597Z"
    }
   },
   "cell_type": "code",
   "source": [
    "ab_tests_group_b = ab_tests.query('testgroup == \"b\"')\n",
    "ab_tests_group_b = ab_tests_group_b.drop(columns=['testgroup'])\n",
    "ab_tests_group_b.head()"
   ],
   "id": "cb3bbd3715cd861",
   "outputs": [
    {
     "data": {
      "text/plain": [
       "   user_id  revenue\n",
       "0        1        0\n",
       "3        4        0\n",
       "4        5        0\n",
       "5        6        0\n",
       "6        7        0"
      ],
      "text/html": [
       "<div>\n",
       "<style scoped>\n",
       "    .dataframe tbody tr th:only-of-type {\n",
       "        vertical-align: middle;\n",
       "    }\n",
       "\n",
       "    .dataframe tbody tr th {\n",
       "        vertical-align: top;\n",
       "    }\n",
       "\n",
       "    .dataframe thead th {\n",
       "        text-align: right;\n",
       "    }\n",
       "</style>\n",
       "<table border=\"1\" class=\"dataframe\">\n",
       "  <thead>\n",
       "    <tr style=\"text-align: right;\">\n",
       "      <th></th>\n",
       "      <th>user_id</th>\n",
       "      <th>revenue</th>\n",
       "    </tr>\n",
       "  </thead>\n",
       "  <tbody>\n",
       "    <tr>\n",
       "      <th>0</th>\n",
       "      <td>1</td>\n",
       "      <td>0</td>\n",
       "    </tr>\n",
       "    <tr>\n",
       "      <th>3</th>\n",
       "      <td>4</td>\n",
       "      <td>0</td>\n",
       "    </tr>\n",
       "    <tr>\n",
       "      <th>4</th>\n",
       "      <td>5</td>\n",
       "      <td>0</td>\n",
       "    </tr>\n",
       "    <tr>\n",
       "      <th>5</th>\n",
       "      <td>6</td>\n",
       "      <td>0</td>\n",
       "    </tr>\n",
       "    <tr>\n",
       "      <th>6</th>\n",
       "      <td>7</td>\n",
       "      <td>0</td>\n",
       "    </tr>\n",
       "  </tbody>\n",
       "</table>\n",
       "</div>"
      ]
     },
     "execution_count": 10,
     "metadata": {},
     "output_type": "execute_result"
    }
   ],
   "execution_count": 10
  },
  {
   "metadata": {
    "ExecuteTime": {
     "end_time": "2024-06-17T10:18:30.397533Z",
     "start_time": "2024-06-17T10:18:30.395020Z"
    }
   },
   "cell_type": "code",
   "source": "ab_tests_group_b.shape",
   "id": "43fac7188a114a75",
   "outputs": [
    {
     "data": {
      "text/plain": [
       "(202667, 2)"
      ]
     },
     "execution_count": 11,
     "metadata": {},
     "output_type": "execute_result"
    }
   ],
   "execution_count": 11
  },
  {
   "metadata": {
    "ExecuteTime": {
     "end_time": "2024-06-17T10:18:30.526579Z",
     "start_time": "2024-06-17T10:18:30.519789Z"
    }
   },
   "cell_type": "code",
   "source": [
    "#A - control, B - test\n",
    "paying_users_group_a = 1928\n",
    "paying_users_group_b = 1805\n",
    "group_a_ids = ab_tests_group_a.user_id.nunique()\n",
    "group_b_ids = ab_tests_group_b.user_id.nunique()\n",
    "print(group_a_ids, group_b_ids)"
   ],
   "id": "7996499c7b7e60fa",
   "outputs": [
    {
     "name": "stdout",
     "output_type": "stream",
     "text": [
      "202103 202667\n"
     ]
    }
   ],
   "execution_count": 12
  },
  {
   "metadata": {
    "ExecuteTime": {
     "end_time": "2024-06-17T10:18:30.676421Z",
     "start_time": "2024-06-17T10:18:30.674189Z"
    }
   },
   "cell_type": "code",
   "source": [
    "group_a_revenue = ab_tests_group_a.revenue.sum()\n",
    "group_b_revenue = ab_tests_group_b.revenue.sum()\n",
    "print(group_a_revenue)\n",
    "print(group_b_revenue)\n",
    "print(group_b_revenue - group_a_revenue)"
   ],
   "id": "b1a9f5e3ca049621",
   "outputs": [
    {
     "name": "stdout",
     "output_type": "stream",
     "text": [
      "5136189\n",
      "5421603\n",
      "285414\n"
     ]
    }
   ],
   "execution_count": 13
  },
  {
   "metadata": {},
   "cell_type": "markdown",
   "source": "Доход группы B больше на 285 414",
   "id": "53bc8024a5e835bf"
  },
  {
   "metadata": {
    "ExecuteTime": {
     "end_time": "2024-06-17T10:18:30.965262Z",
     "start_time": "2024-06-17T10:18:30.963004Z"
    }
   },
   "cell_type": "code",
   "source": [
    "conv_group_a = paying_users_group_a / group_a_ids * 100\n",
    "conv_group_b = paying_users_group_b / group_b_ids * 100\n",
    "print(conv_group_a)\n",
    "print(conv_group_b)"
   ],
   "id": "a9418a7760e5b3c0",
   "outputs": [
    {
     "name": "stdout",
     "output_type": "stream",
     "text": [
      "0.9539690157988748\n",
      "0.8906235351586593\n"
     ]
    }
   ],
   "execution_count": 14
  },
  {
   "metadata": {},
   "cell_type": "markdown",
   "source": "Конверсия группы А в платящего пользователя больше на 6% \n",
   "id": "abded14ddee680fb"
  },
  {
   "metadata": {
    "ExecuteTime": {
     "end_time": "2024-06-17T10:18:31.266149Z",
     "start_time": "2024-06-17T10:18:31.261658Z"
    }
   },
   "cell_type": "code",
   "source": [
    "group_a_arpu = group_a_revenue / group_a_ids\n",
    "group_b_arpu = group_b_revenue / group_b_ids"
   ],
   "id": "6992a4e361a8c076",
   "outputs": [],
   "execution_count": 15
  },
  {
   "metadata": {
    "ExecuteTime": {
     "end_time": "2024-06-17T10:18:31.425843Z",
     "start_time": "2024-06-17T10:18:31.423780Z"
    }
   },
   "cell_type": "code",
   "source": [
    "print(group_a_arpu)\n",
    "print(group_b_arpu)"
   ],
   "id": "7686a5a40e46780a",
   "outputs": [
    {
     "name": "stdout",
     "output_type": "stream",
     "text": [
      "25.413719736965806\n",
      "26.75128659327863\n"
     ]
    }
   ],
   "execution_count": 16
  },
  {
   "metadata": {},
   "cell_type": "markdown",
   "source": "ARPU для обеих групп почти одинаков",
   "id": "8678ddc9de36ef38"
  },
  {
   "metadata": {
    "ExecuteTime": {
     "end_time": "2024-06-17T10:18:31.695305Z",
     "start_time": "2024-06-17T10:18:31.693409Z"
    }
   },
   "cell_type": "code",
   "source": [
    "group_a_arppu =  group_a_revenue / paying_users_group_a\n",
    "group_b_arppu = group_b_revenue / paying_users_group_b \n",
    "print(group_a_arppu)\n",
    "print(group_b_arppu)"
   ],
   "id": "10d5632f11858ce9",
   "outputs": [
    {
     "name": "stdout",
     "output_type": "stream",
     "text": [
      "2663.9984439834025\n",
      "3003.6581717451522\n"
     ]
    }
   ],
   "execution_count": 17
  },
  {
   "metadata": {},
   "cell_type": "markdown",
   "source": "ARPPU группы B существенно выше ARPPU группы А ",
   "id": "7db99f83afc4fa00"
  },
  {
   "metadata": {},
   "cell_type": "markdown",
   "source": [
    "### Промежуточные выводы\n",
    "\n",
    "Выборки имеют большой размер. В контрольной группе **202103** пользователя, в тестовой – **202667**. Согласно условию в контрольной группе **1928** платящих пользователей, а в тестовой – **1805**.\n",
    "\n",
    "Конверсия контрольной группы больше на **~6%**\n",
    "\n",
    "Доход тестовой группы больше на **285414**\n",
    "\n",
    "**ARPU** обеих групп примерно одинаков, но **ARPPU** различается. У тестовой группы эта метрика выше. Имеет смысл исследовать платящих пользователей тестовой группы"
   ],
   "id": "9815414d29077093"
  },
  {
   "metadata": {},
   "cell_type": "markdown",
   "source": "### Посмотрим подробнее на доход пользователей",
   "id": "3a431c1f692d1860"
  },
  {
   "metadata": {
    "ExecuteTime": {
     "end_time": "2024-06-17T10:18:32.291177Z",
     "start_time": "2024-06-17T10:18:32.285732Z"
    }
   },
   "cell_type": "code",
   "source": "ab_tests.revenue.nunique()",
   "id": "2a8bef96cdc32ef4",
   "outputs": [
    {
     "data": {
      "text/plain": [
       "1477"
      ]
     },
     "execution_count": 18,
     "metadata": {},
     "output_type": "execute_result"
    }
   ],
   "execution_count": 18
  },
  {
   "metadata": {
    "ExecuteTime": {
     "end_time": "2024-06-17T10:18:32.469780Z",
     "start_time": "2024-06-17T10:18:32.465003Z"
    }
   },
   "cell_type": "code",
   "source": "ab_tests.revenue.unique()",
   "id": "ef7424ce0e334774",
   "outputs": [
    {
     "data": {
      "text/plain": [
       "array([   0,  351, 3797, ..., 2105, 3383, 3120])"
      ]
     },
     "execution_count": 19,
     "metadata": {},
     "output_type": "execute_result"
    }
   ],
   "execution_count": 19
  },
  {
   "metadata": {
    "ExecuteTime": {
     "end_time": "2024-06-17T10:18:32.583291Z",
     "start_time": "2024-06-17T10:18:32.578062Z"
    }
   },
   "cell_type": "code",
   "source": "ab_tests.revenue.value_counts()",
   "id": "1e637db2b95a6311",
   "outputs": [
    {
     "data": {
      "text/plain": [
       "revenue\n",
       "0       401037\n",
       "310         18\n",
       "206         18\n",
       "224         17\n",
       "265         17\n",
       "         ...  \n",
       "2074         1\n",
       "3011         1\n",
       "2407         1\n",
       "3438         1\n",
       "3120         1\n",
       "Name: count, Length: 1477, dtype: int64"
      ]
     },
     "execution_count": 20,
     "metadata": {},
     "output_type": "execute_result"
    }
   ],
   "execution_count": 20
  },
  {
   "metadata": {
    "ExecuteTime": {
     "end_time": "2024-06-17T10:18:32.733678Z",
     "start_time": "2024-06-17T10:18:32.725136Z"
    }
   },
   "cell_type": "code",
   "source": [
    "ab_tests.groupby('revenue', as_index=False) \\\n",
    "        .agg({'revenue':'count'}) \\\n",
    "        .sort_values(by=['revenue'], ascending=False).head()"
   ],
   "id": "b9a05dd643055ea6",
   "outputs": [
    {
     "data": {
      "text/plain": [
       "     revenue\n",
       "0     401037\n",
       "111       18\n",
       "7         18\n",
       "198       17\n",
       "66        17"
      ],
      "text/html": [
       "<div>\n",
       "<style scoped>\n",
       "    .dataframe tbody tr th:only-of-type {\n",
       "        vertical-align: middle;\n",
       "    }\n",
       "\n",
       "    .dataframe tbody tr th {\n",
       "        vertical-align: top;\n",
       "    }\n",
       "\n",
       "    .dataframe thead th {\n",
       "        text-align: right;\n",
       "    }\n",
       "</style>\n",
       "<table border=\"1\" class=\"dataframe\">\n",
       "  <thead>\n",
       "    <tr style=\"text-align: right;\">\n",
       "      <th></th>\n",
       "      <th>revenue</th>\n",
       "    </tr>\n",
       "  </thead>\n",
       "  <tbody>\n",
       "    <tr>\n",
       "      <th>0</th>\n",
       "      <td>401037</td>\n",
       "    </tr>\n",
       "    <tr>\n",
       "      <th>111</th>\n",
       "      <td>18</td>\n",
       "    </tr>\n",
       "    <tr>\n",
       "      <th>7</th>\n",
       "      <td>18</td>\n",
       "    </tr>\n",
       "    <tr>\n",
       "      <th>198</th>\n",
       "      <td>17</td>\n",
       "    </tr>\n",
       "    <tr>\n",
       "      <th>66</th>\n",
       "      <td>17</td>\n",
       "    </tr>\n",
       "  </tbody>\n",
       "</table>\n",
       "</div>"
      ]
     },
     "execution_count": 21,
     "metadata": {},
     "output_type": "execute_result"
    }
   ],
   "execution_count": 21
  },
  {
   "metadata": {},
   "cell_type": "markdown",
   "source": [
    "Сразу видно, что в датасете встречается очень много значений ```revenue = 0```, то есть есть неплатящие пользователи\n",
    "\n",
    "Поделю датасет по группам, чтобы посмотреть на неплатящих пользователей в группах\n",
    "\n",
    "Также проверю распределение с помощью теста Шапиро"
   ],
   "id": "30064b835d6bef94"
  },
  {
   "metadata": {
    "ExecuteTime": {
     "end_time": "2024-06-17T10:18:33.029559Z",
     "start_time": "2024-06-17T10:18:33.026545Z"
    }
   },
   "cell_type": "code",
   "source": "ab_tests.head()",
   "id": "e6a4086fa9de4edb",
   "outputs": [
    {
     "data": {
      "text/plain": [
       "   user_id  revenue testgroup\n",
       "0        1        0         b\n",
       "1        2        0         a\n",
       "2        3        0         a\n",
       "3        4        0         b\n",
       "4        5        0         b"
      ],
      "text/html": [
       "<div>\n",
       "<style scoped>\n",
       "    .dataframe tbody tr th:only-of-type {\n",
       "        vertical-align: middle;\n",
       "    }\n",
       "\n",
       "    .dataframe tbody tr th {\n",
       "        vertical-align: top;\n",
       "    }\n",
       "\n",
       "    .dataframe thead th {\n",
       "        text-align: right;\n",
       "    }\n",
       "</style>\n",
       "<table border=\"1\" class=\"dataframe\">\n",
       "  <thead>\n",
       "    <tr style=\"text-align: right;\">\n",
       "      <th></th>\n",
       "      <th>user_id</th>\n",
       "      <th>revenue</th>\n",
       "      <th>testgroup</th>\n",
       "    </tr>\n",
       "  </thead>\n",
       "  <tbody>\n",
       "    <tr>\n",
       "      <th>0</th>\n",
       "      <td>1</td>\n",
       "      <td>0</td>\n",
       "      <td>b</td>\n",
       "    </tr>\n",
       "    <tr>\n",
       "      <th>1</th>\n",
       "      <td>2</td>\n",
       "      <td>0</td>\n",
       "      <td>a</td>\n",
       "    </tr>\n",
       "    <tr>\n",
       "      <th>2</th>\n",
       "      <td>3</td>\n",
       "      <td>0</td>\n",
       "      <td>a</td>\n",
       "    </tr>\n",
       "    <tr>\n",
       "      <th>3</th>\n",
       "      <td>4</td>\n",
       "      <td>0</td>\n",
       "      <td>b</td>\n",
       "    </tr>\n",
       "    <tr>\n",
       "      <th>4</th>\n",
       "      <td>5</td>\n",
       "      <td>0</td>\n",
       "      <td>b</td>\n",
       "    </tr>\n",
       "  </tbody>\n",
       "</table>\n",
       "</div>"
      ]
     },
     "execution_count": 22,
     "metadata": {},
     "output_type": "execute_result"
    }
   ],
   "execution_count": 22
  },
  {
   "metadata": {},
   "cell_type": "markdown",
   "source": "### Визуализирую распределение ```revenue``` в группе А",
   "id": "5dfa942a43c71a0b"
  },
  {
   "metadata": {
    "ExecuteTime": {
     "end_time": "2024-06-17T10:18:33.594115Z",
     "start_time": "2024-06-17T10:18:33.337780Z"
    }
   },
   "cell_type": "code",
   "source": [
    "plt.figure(figsize=(20, 10)) \n",
    "sns.histplot(ab_tests_group_a.revenue)"
   ],
   "id": "49da979adaa71774",
   "outputs": [
    {
     "data": {
      "text/plain": [
       "<Axes: xlabel='revenue', ylabel='Count'>"
      ]
     },
     "execution_count": 23,
     "metadata": {},
     "output_type": "execute_result"
    },
    {
     "data": {
      "text/plain": [
       "<Figure size 2000x1000 with 1 Axes>"
      ],
      "image/png": "[encoded data removed]"
     },
     "metadata": {},
     "output_type": "display_data"
    }
   ],
   "execution_count": 23
  },
  {
   "metadata": {},
   "cell_type": "markdown",
   "source": "Есть небольшое количество значений после отметки 35.000. Посмотрим на них внимательнее",
   "id": "1e1f3ca1f8ba2802"
  },
  {
   "metadata": {
    "ExecuteTime": {
     "end_time": "2024-06-17T10:18:33.695821Z",
     "start_time": "2024-06-17T10:18:33.680939Z"
    }
   },
   "cell_type": "code",
   "source": "paying_a_group = ab_tests.query('revenue > 0 & testgroup == \"a\"')[['revenue']]",
   "id": "1bf14e4216b00475",
   "outputs": [],
   "execution_count": 24
  },
  {
   "metadata": {
    "ExecuteTime": {
     "end_time": "2024-06-17T10:18:35.223536Z",
     "start_time": "2024-06-17T10:18:33.803145Z"
    }
   },
   "cell_type": "code",
   "source": [
    "plt.figure(figsize=(20, 10)) \n",
    "sns.histplot(paying_a_group)"
   ],
   "id": "d11befd65dea9dcb",
   "outputs": [
    {
     "data": {
      "text/plain": [
       "<Axes: ylabel='Count'>"
      ]
     },
     "execution_count": 25,
     "metadata": {},
     "output_type": "execute_result"
    },
    {
     "data": {
      "text/plain": [
       "<Figure size 2000x1000 with 1 Axes>"
      ],
      "image/png": "[encoded data removed]"
     },
     "metadata": {},
     "output_type": "display_data"
    }
   ],
   "execution_count": 25
  },
  {
   "metadata": {
    "ExecuteTime": {
     "end_time": "2024-06-17T10:18:35.229707Z",
     "start_time": "2024-06-17T10:18:35.224442Z"
    }
   },
   "cell_type": "code",
   "source": "ab_tests_group_a.query('revenue > 35000')",
   "id": "e4882d8ae704131f",
   "outputs": [
    {
     "data": {
      "text/plain": [
       "        user_id  revenue\n",
       "416         417    37324\n",
       "4428       4429    37304\n",
       "5777       5778    37315\n",
       "8065       8066    37307\n",
       "8743       8744    37334\n",
       "...         ...      ...\n",
       "360696   360697    37347\n",
       "378668   378669    37297\n",
       "389341   389342    37298\n",
       "394580   394581    37302\n",
       "399294   399295    37321\n",
       "\n",
       "[123 rows x 2 columns]"
      ],
      "text/html": [
       "<div>\n",
       "<style scoped>\n",
       "    .dataframe tbody tr th:only-of-type {\n",
       "        vertical-align: middle;\n",
       "    }\n",
       "\n",
       "    .dataframe tbody tr th {\n",
       "        vertical-align: top;\n",
       "    }\n",
       "\n",
       "    .dataframe thead th {\n",
       "        text-align: right;\n",
       "    }\n",
       "</style>\n",
       "<table border=\"1\" class=\"dataframe\">\n",
       "  <thead>\n",
       "    <tr style=\"text-align: right;\">\n",
       "      <th></th>\n",
       "      <th>user_id</th>\n",
       "      <th>revenue</th>\n",
       "    </tr>\n",
       "  </thead>\n",
       "  <tbody>\n",
       "    <tr>\n",
       "      <th>416</th>\n",
       "      <td>417</td>\n",
       "      <td>37324</td>\n",
       "    </tr>\n",
       "    <tr>\n",
       "      <th>4428</th>\n",
       "      <td>4429</td>\n",
       "      <td>37304</td>\n",
       "    </tr>\n",
       "    <tr>\n",
       "      <th>5777</th>\n",
       "      <td>5778</td>\n",
       "      <td>37315</td>\n",
       "    </tr>\n",
       "    <tr>\n",
       "      <th>8065</th>\n",
       "      <td>8066</td>\n",
       "      <td>37307</td>\n",
       "    </tr>\n",
       "    <tr>\n",
       "      <th>8743</th>\n",
       "      <td>8744</td>\n",
       "      <td>37334</td>\n",
       "    </tr>\n",
       "    <tr>\n",
       "      <th>...</th>\n",
       "      <td>...</td>\n",
       "      <td>...</td>\n",
       "    </tr>\n",
       "    <tr>\n",
       "      <th>360696</th>\n",
       "      <td>360697</td>\n",
       "      <td>37347</td>\n",
       "    </tr>\n",
       "    <tr>\n",
       "      <th>378668</th>\n",
       "      <td>378669</td>\n",
       "      <td>37297</td>\n",
       "    </tr>\n",
       "    <tr>\n",
       "      <th>389341</th>\n",
       "      <td>389342</td>\n",
       "      <td>37298</td>\n",
       "    </tr>\n",
       "    <tr>\n",
       "      <th>394580</th>\n",
       "      <td>394581</td>\n",
       "      <td>37302</td>\n",
       "    </tr>\n",
       "    <tr>\n",
       "      <th>399294</th>\n",
       "      <td>399295</td>\n",
       "      <td>37321</td>\n",
       "    </tr>\n",
       "  </tbody>\n",
       "</table>\n",
       "<p>123 rows × 2 columns</p>\n",
       "</div>"
      ]
     },
     "execution_count": 26,
     "metadata": {},
     "output_type": "execute_result"
    }
   ],
   "execution_count": 26
  },
  {
   "metadata": {
    "ExecuteTime": {
     "end_time": "2024-06-17T10:18:35.234862Z",
     "start_time": "2024-06-17T10:18:35.230459Z"
    }
   },
   "cell_type": "code",
   "source": "ab_tests_group_a.query('revenue > 37000 & revenue < 38000')",
   "id": "ac6e6e2dfff5f2bf",
   "outputs": [
    {
     "data": {
      "text/plain": [
       "        user_id  revenue\n",
       "416         417    37324\n",
       "4428       4429    37304\n",
       "5777       5778    37315\n",
       "8065       8066    37307\n",
       "8743       8744    37334\n",
       "...         ...      ...\n",
       "360696   360697    37347\n",
       "378668   378669    37297\n",
       "389341   389342    37298\n",
       "394580   394581    37302\n",
       "399294   399295    37321\n",
       "\n",
       "[123 rows x 2 columns]"
      ],
      "text/html": [
       "<div>\n",
       "<style scoped>\n",
       "    .dataframe tbody tr th:only-of-type {\n",
       "        vertical-align: middle;\n",
       "    }\n",
       "\n",
       "    .dataframe tbody tr th {\n",
       "        vertical-align: top;\n",
       "    }\n",
       "\n",
       "    .dataframe thead th {\n",
       "        text-align: right;\n",
       "    }\n",
       "</style>\n",
       "<table border=\"1\" class=\"dataframe\">\n",
       "  <thead>\n",
       "    <tr style=\"text-align: right;\">\n",
       "      <th></th>\n",
       "      <th>user_id</th>\n",
       "      <th>revenue</th>\n",
       "    </tr>\n",
       "  </thead>\n",
       "  <tbody>\n",
       "    <tr>\n",
       "      <th>416</th>\n",
       "      <td>417</td>\n",
       "      <td>37324</td>\n",
       "    </tr>\n",
       "    <tr>\n",
       "      <th>4428</th>\n",
       "      <td>4429</td>\n",
       "      <td>37304</td>\n",
       "    </tr>\n",
       "    <tr>\n",
       "      <th>5777</th>\n",
       "      <td>5778</td>\n",
       "      <td>37315</td>\n",
       "    </tr>\n",
       "    <tr>\n",
       "      <th>8065</th>\n",
       "      <td>8066</td>\n",
       "      <td>37307</td>\n",
       "    </tr>\n",
       "    <tr>\n",
       "      <th>8743</th>\n",
       "      <td>8744</td>\n",
       "      <td>37334</td>\n",
       "    </tr>\n",
       "    <tr>\n",
       "      <th>...</th>\n",
       "      <td>...</td>\n",
       "      <td>...</td>\n",
       "    </tr>\n",
       "    <tr>\n",
       "      <th>360696</th>\n",
       "      <td>360697</td>\n",
       "      <td>37347</td>\n",
       "    </tr>\n",
       "    <tr>\n",
       "      <th>378668</th>\n",
       "      <td>378669</td>\n",
       "      <td>37297</td>\n",
       "    </tr>\n",
       "    <tr>\n",
       "      <th>389341</th>\n",
       "      <td>389342</td>\n",
       "      <td>37298</td>\n",
       "    </tr>\n",
       "    <tr>\n",
       "      <th>394580</th>\n",
       "      <td>394581</td>\n",
       "      <td>37302</td>\n",
       "    </tr>\n",
       "    <tr>\n",
       "      <th>399294</th>\n",
       "      <td>399295</td>\n",
       "      <td>37321</td>\n",
       "    </tr>\n",
       "  </tbody>\n",
       "</table>\n",
       "<p>123 rows × 2 columns</p>\n",
       "</div>"
      ]
     },
     "execution_count": 27,
     "metadata": {},
     "output_type": "execute_result"
    }
   ],
   "execution_count": 27
  },
  {
   "metadata": {
    "ExecuteTime": {
     "end_time": "2024-06-17T10:18:35.420158Z",
     "start_time": "2024-06-17T10:18:35.236099Z"
    }
   },
   "cell_type": "code",
   "source": [
    "plt.figure(figsize=(20, 10)) \n",
    "sns.histplot(paying_a_group.query('revenue > 35000'))"
   ],
   "id": "f508efe939d25261",
   "outputs": [
    {
     "data": {
      "text/plain": [
       "<Axes: ylabel='Count'>"
      ]
     },
     "execution_count": 28,
     "metadata": {},
     "output_type": "execute_result"
    },
    {
     "data": {
      "text/plain": [
       "<Figure size 2000x1000 with 1 Axes>"
      ],
      "image/png": "[encoded data removed]"
     },
     "metadata": {},
     "output_type": "display_data"
    }
   ],
   "execution_count": 28
  },
  {
   "metadata": {
    "ExecuteTime": {
     "end_time": "2024-06-17T10:18:35.423841Z",
     "start_time": "2024-06-17T10:18:35.421248Z"
    }
   },
   "cell_type": "code",
   "source": "full_revenue_a = ab_tests_group_a.revenue.sum()",
   "id": "a4983b0063bfacd9",
   "outputs": [],
   "execution_count": 29
  },
  {
   "metadata": {
    "ExecuteTime": {
     "end_time": "2024-06-17T10:18:35.429968Z",
     "start_time": "2024-06-17T10:18:35.425060Z"
    }
   },
   "cell_type": "code",
   "source": "ab_tests_group_a.query('revenue > 35000')['revenue'].sum()",
   "id": "fcc632948b56b055",
   "outputs": [
    {
     "data": {
      "text/plain": [
       "4590252"
      ]
     },
     "execution_count": 30,
     "metadata": {},
     "output_type": "execute_result"
    }
   ],
   "execution_count": 30
  },
  {
   "metadata": {
    "ExecuteTime": {
     "end_time": "2024-06-17T10:18:35.437752Z",
     "start_time": "2024-06-17T10:18:35.430589Z"
    }
   },
   "cell_type": "code",
   "source": "ab_tests_group_a.query('revenue <= 35000')['revenue'].sum()",
   "id": "82aaf022c5f053d8",
   "outputs": [
    {
     "data": {
      "text/plain": [
       "545937"
      ]
     },
     "execution_count": 31,
     "metadata": {},
     "output_type": "execute_result"
    }
   ],
   "execution_count": 31
  },
  {
   "metadata": {
    "ExecuteTime": {
     "end_time": "2024-06-17T10:18:35.443640Z",
     "start_time": "2024-06-17T10:18:35.438963Z"
    }
   },
   "cell_type": "code",
   "source": "ab_tests_group_a.query('revenue > 35000')['revenue'].sum() / full_revenue_a",
   "id": "a1b0732565040de8",
   "outputs": [
    {
     "data": {
      "text/plain": [
       "0.8937077665950377"
      ]
     },
     "execution_count": 32,
     "metadata": {},
     "output_type": "execute_result"
    }
   ],
   "execution_count": 32
  },
  {
   "metadata": {
    "ExecuteTime": {
     "end_time": "2024-06-17T10:18:35.451211Z",
     "start_time": "2024-06-17T10:18:35.445367Z"
    }
   },
   "cell_type": "code",
   "source": "ab_tests_group_a.query('revenue > 35000')['user_id'].nunique()",
   "id": "28be08909f63db4a",
   "outputs": [
    {
     "data": {
      "text/plain": [
       "123"
      ]
     },
     "execution_count": 33,
     "metadata": {},
     "output_type": "execute_result"
    }
   ],
   "execution_count": 33
  },
  {
   "metadata": {
    "ExecuteTime": {
     "end_time": "2024-06-17T10:18:35.464638Z",
     "start_time": "2024-06-17T10:18:35.455941Z"
    }
   },
   "cell_type": "code",
   "source": "ab_tests_group_a.query('revenue > 0 & revenue < 35000')['user_id'].nunique()",
   "id": "75acabe427b3865f",
   "outputs": [
    {
     "data": {
      "text/plain": [
       "1805"
      ]
     },
     "execution_count": 34,
     "metadata": {},
     "output_type": "execute_result"
    }
   ],
   "execution_count": 34
  },
  {
   "metadata": {
    "ExecuteTime": {
     "end_time": "2024-06-17T10:18:35.473900Z",
     "start_time": "2024-06-17T10:18:35.465677Z"
    }
   },
   "cell_type": "code",
   "source": "ab_tests_group_a.query('revenue <= 35000')['revenue'].sum() / full_revenue_a",
   "id": "ea369345efed76b4",
   "outputs": [
    {
     "data": {
      "text/plain": [
       "0.10629223340496231"
      ]
     },
     "execution_count": 35,
     "metadata": {},
     "output_type": "execute_result"
    }
   ],
   "execution_count": 35
  },
  {
   "metadata": {
    "ExecuteTime": {
     "end_time": "2024-06-17T10:18:38.036632Z",
     "start_time": "2024-06-17T10:18:37.794923Z"
    }
   },
   "cell_type": "code",
   "source": [
    "plt.figure(figsize=(20, 10)) \n",
    "sns.histplot(ab_tests_group_a.query('revenue <= 35000')['revenue'])"
   ],
   "id": "806e0f92b0ab203b",
   "outputs": [
    {
     "data": {
      "text/plain": [
       "<Axes: xlabel='revenue', ylabel='Count'>"
      ]
     },
     "execution_count": 36,
     "metadata": {},
     "output_type": "execute_result"
    },
    {
     "data": {
      "text/plain": [
       "<Figure size 2000x1000 with 1 Axes>"
      ],
      "image/png": "[encoded data removed]"
     },
     "metadata": {},
     "output_type": "display_data"
    }
   ],
   "execution_count": 36
  },
  {
   "metadata": {
    "ExecuteTime": {
     "end_time": "2024-06-17T10:18:38.042913Z",
     "start_time": "2024-06-17T10:18:38.038247Z"
    }
   },
   "cell_type": "code",
   "source": "ab_tests_group_a.query('revenue >= 200 & revenue <= 500')['revenue'].sum()",
   "id": "d3f59d860bf7ba95",
   "outputs": [
    {
     "data": {
      "text/plain": [
       "545937"
      ]
     },
     "execution_count": 37,
     "metadata": {},
     "output_type": "execute_result"
    }
   ],
   "execution_count": 37
  },
  {
   "metadata": {},
   "cell_type": "markdown",
   "source": [
    "**123 пользователя** в группе А приносят намного большую прибыль (около 89%), чем все остальные пользователи. Оставшиеся пользователи (1805) делают намного меньшую выручку (около 11%)\n",
    "\n",
    "Также можно заметить, что их ```revenue``` держится в диапазоне от 37.000 до 38.000. Можно предположить, что они покупали одинаковые товары или воспользовались одним предложением (например, купить несколько товаров со скидкой).\n",
    "\n",
    "### Визуализирую распределение группы В"
   ],
   "id": "fcaa15b0ca548b3"
  },
  {
   "metadata": {
    "ExecuteTime": {
     "end_time": "2024-06-17T10:18:38.477669Z",
     "start_time": "2024-06-17T10:18:38.262297Z"
    }
   },
   "cell_type": "code",
   "source": [
    "plt.figure(figsize=(20, 10)) \n",
    "sns.histplot(ab_tests_group_b.revenue)"
   ],
   "id": "6dd749ef5036d243",
   "outputs": [
    {
     "data": {
      "text/plain": [
       "<Axes: xlabel='revenue', ylabel='Count'>"
      ]
     },
     "execution_count": 38,
     "metadata": {},
     "output_type": "execute_result"
    },
    {
     "data": {
      "text/plain": [
       "<Figure size 2000x1000 with 1 Axes>"
      ],
      "image/png": "[encoded data removed]"
     },
     "metadata": {},
     "output_type": "display_data"
    }
   ],
   "execution_count": 38
  },
  {
   "metadata": {},
   "cell_type": "markdown",
   "source": "Есть небольшое количество значений в промежутке между 2000 и 4000. Посмотрим на них внимательнее",
   "id": "199c15809256e566"
  },
  {
   "metadata": {
    "ExecuteTime": {
     "end_time": "2024-06-17T10:18:38.812399Z",
     "start_time": "2024-06-17T10:18:38.801709Z"
    }
   },
   "cell_type": "code",
   "source": "paying_b_group = ab_tests.query('revenue > 0 & testgroup == \"b\"')[['revenue']]\n",
   "id": "2dfa2ab36ae5c0a4",
   "outputs": [],
   "execution_count": 39
  },
  {
   "metadata": {
    "ExecuteTime": {
     "end_time": "2024-06-17T10:18:39.151955Z",
     "start_time": "2024-06-17T10:18:38.966628Z"
    }
   },
   "cell_type": "code",
   "source": [
    "plt.figure(figsize=(20, 10)) \n",
    "sns.histplot(paying_b_group)"
   ],
   "id": "929b9e22c6b23570",
   "outputs": [
    {
     "data": {
      "text/plain": [
       "<Axes: ylabel='Count'>"
      ]
     },
     "execution_count": 40,
     "metadata": {},
     "output_type": "execute_result"
    },
    {
     "data": {
      "text/plain": [
       "<Figure size 2000x1000 with 1 Axes>"
      ],
      "image/png": "[encoded data removed]"
     },
     "metadata": {},
     "output_type": "display_data"
    }
   ],
   "execution_count": 40
  },
  {
   "metadata": {
    "ExecuteTime": {
     "end_time": "2024-06-17T10:18:39.160299Z",
     "start_time": "2024-06-17T10:18:39.154275Z"
    }
   },
   "cell_type": "code",
   "source": "ab_tests_group_b.query('revenue >= 2000')['user_id'].nunique()",
   "id": "e19c443dfb64993a",
   "outputs": [
    {
     "data": {
      "text/plain": [
       "1805"
      ]
     },
     "execution_count": 41,
     "metadata": {},
     "output_type": "execute_result"
    }
   ],
   "execution_count": 41
  },
  {
   "metadata": {
    "ExecuteTime": {
     "end_time": "2024-06-17T10:18:39.303945Z",
     "start_time": "2024-06-17T10:18:39.301437Z"
    }
   },
   "cell_type": "code",
   "source": [
    "full_revenue_b = ab_tests_group_b.revenue.sum()\n",
    "full_revenue_b"
   ],
   "id": "fbfc7371ac1d8221",
   "outputs": [
    {
     "data": {
      "text/plain": [
       "5421603"
      ]
     },
     "execution_count": 42,
     "metadata": {},
     "output_type": "execute_result"
    }
   ],
   "execution_count": 42
  },
  {
   "metadata": {
    "ExecuteTime": {
     "end_time": "2024-06-17T10:18:39.438414Z",
     "start_time": "2024-06-17T10:18:39.435047Z"
    }
   },
   "cell_type": "code",
   "source": "ab_tests_group_b.query('revenue >= 2000')['revenue'].sum()",
   "id": "5e2757b252a21822",
   "outputs": [
    {
     "data": {
      "text/plain": [
       "5421603"
      ]
     },
     "execution_count": 43,
     "metadata": {},
     "output_type": "execute_result"
    }
   ],
   "execution_count": 43
  },
  {
   "metadata": {
    "ExecuteTime": {
     "end_time": "2024-06-17T10:18:39.561245Z",
     "start_time": "2024-06-17T10:18:39.557050Z"
    }
   },
   "cell_type": "code",
   "source": "ab_tests_group_b.query('revenue >= 2000')['revenue'].sum() / full_revenue_b",
   "id": "d5cf0d171cf7d9b2",
   "outputs": [
    {
     "data": {
      "text/plain": [
       "1.0"
      ]
     },
     "execution_count": 44,
     "metadata": {},
     "output_type": "execute_result"
    }
   ],
   "execution_count": 44
  },
  {
   "metadata": {
    "ExecuteTime": {
     "end_time": "2024-06-17T10:18:39.720689Z",
     "start_time": "2024-06-17T10:18:39.715185Z"
    }
   },
   "cell_type": "code",
   "source": "ab_tests_group_b.query('revenue < 2000')['revenue'].sum()\n",
   "id": "31b1de974977aa5f",
   "outputs": [
    {
     "data": {
      "text/plain": [
       "0"
      ]
     },
     "execution_count": 45,
     "metadata": {},
     "output_type": "execute_result"
    }
   ],
   "execution_count": 45
  },
  {
   "metadata": {
    "ExecuteTime": {
     "end_time": "2024-06-17T10:18:39.878371Z",
     "start_time": "2024-06-17T10:18:39.871747Z"
    }
   },
   "cell_type": "code",
   "source": "ab_tests_group_b.query('revenue < 2000')['revenue'].value_counts()",
   "id": "7102575586f272fc",
   "outputs": [
    {
     "data": {
      "text/plain": [
       "revenue\n",
       "0    200862\n",
       "Name: count, dtype: int64"
      ]
     },
     "execution_count": 46,
     "metadata": {},
     "output_type": "execute_result"
    }
   ],
   "execution_count": 46
  },
  {
   "metadata": {},
   "cell_type": "markdown",
   "source": "В группе В также наблюдается один сегмент платящих пользователей (их 1805). Остальные пользователи являются неплатящими (```revenue = 0```). В группе А, помимо сегмента с высоким ```revenue``` (```revenue > 35 000```) есть и другие платящие пользователи.",
   "id": "83c32d20970c4e23"
  },
  {
   "metadata": {},
   "cell_type": "markdown",
   "source": [
    "### Проверка распределений\n",
    "\n",
    "Визуально видно, что распределение ненормально в обеих группах, но проверю это статистически с помощью теста Шапиро\n",
    "\n",
    "**Нулевая гипотеза теста Шапиро (H0)**: данные распределены нормально  \n",
    "**Альтернативная гипотеза теста Шапиро (H1)**: данные не распределены нормально"
   ],
   "id": "f7067cc7544b7fc7"
  },
  {
   "metadata": {
    "ExecuteTime": {
     "end_time": "2024-06-17T10:18:40.295780Z",
     "start_time": "2024-06-17T10:18:40.288581Z"
    }
   },
   "cell_type": "code",
   "source": [
    "statistic, pvalue = stats.shapiro(ab_tests_group_a.revenue)\n",
    "print(pvalue)\n",
    "print(pvalue < 0.05)"
   ],
   "id": "6f9adabfe22dac03",
   "outputs": [
    {
     "name": "stdout",
     "output_type": "stream",
     "text": [
      "9.154085373057082e-204\n",
      "True\n"
     ]
    },
    {
     "name": "stderr",
     "output_type": "stream",
     "text": [
      "/Users/shvartz/Desktop/Капитал/IT strength/Karpov/analytics/venv/lib/python3.11/site-packages/scipy/stats/_axis_nan_policy.py:531: UserWarning: scipy.stats.shapiro: For N > 5000, computed p-value may not be accurate. Current N is 202103.\n",
      "  res = hypotest_fun_out(*samples, **kwds)\n"
     ]
    }
   ],
   "execution_count": 47
  },
  {
   "metadata": {},
   "cell_type": "markdown",
   "source": "Вывод: ```pvalue``` меньше 0.05, значит отклоняем гипотезу о том, что распределение нормальное. Распределение **ненормальное**. Аналогично во второй группе",
   "id": "f8edb96edd86aedb"
  },
  {
   "metadata": {
    "ExecuteTime": {
     "end_time": "2024-06-17T10:18:40.587725Z",
     "start_time": "2024-06-17T10:18:40.582202Z"
    }
   },
   "cell_type": "code",
   "source": [
    "statistic, pvalue = stats.shapiro(ab_tests_group_b.revenue)\n",
    "print(pvalue)\n",
    "print(pvalue < 0.05)"
   ],
   "id": "53b6778f643aa323",
   "outputs": [
    {
     "name": "stdout",
     "output_type": "stream",
     "text": [
      "1.2462736534200747e-201\n",
      "True\n"
     ]
    },
    {
     "name": "stderr",
     "output_type": "stream",
     "text": [
      "/Users/shvartz/Desktop/Капитал/IT strength/Karpov/analytics/venv/lib/python3.11/site-packages/scipy/stats/_axis_nan_policy.py:531: UserWarning: scipy.stats.shapiro: For N > 5000, computed p-value may not be accurate. Current N is 202667.\n",
      "  res = hypotest_fun_out(*samples, **kwds)\n"
     ]
    }
   ],
   "execution_count": 48
  },
  {
   "metadata": {},
   "cell_type": "markdown",
   "source": [
    "### Т-тест\n",
    "**H0 гипотеза Т-теста**: Средние значения двух выборок равны (различия между выборками незначимы)  \n",
    "**H1 гипотеза Т-теста**: Средние значения двух выборок не равныТем не менее, из-за большого размера выборки я могу воспользоваться **T-тестом** и сравнить средние двух выборок "
   ],
   "id": "ba63e398c6f2fd73"
  },
  {
   "metadata": {
    "ExecuteTime": {
     "end_time": "2024-06-17T10:18:40.884170Z",
     "start_time": "2024-06-17T10:18:40.868072Z"
    }
   },
   "cell_type": "code",
   "source": "t_stat, p_val = stats.ttest_ind(ab_tests_group_a, ab_tests_group_b)",
   "id": "ad00b03548afd01a",
   "outputs": [],
   "execution_count": 49
  },
  {
   "metadata": {
    "ExecuteTime": {
     "end_time": "2024-06-17T10:18:41.032256Z",
     "start_time": "2024-06-17T10:18:41.030340Z"
    }
   },
   "cell_type": "code",
   "source": [
    "print(f\"t-статистика: {t_stat}\")\n",
    "print(f\"p-значение: {p_val}\")"
   ],
   "id": "c16380e7cdf7b8cd",
   "outputs": [
    {
     "name": "stdout",
     "output_type": "stream",
     "text": [
      "t-статистика: [ 0.92656393 -0.62420265]\n",
      "p-значение: [0.35415354 0.53249486]\n"
     ]
    }
   ],
   "execution_count": 50
  },
  {
   "metadata": {
    "ExecuteTime": {
     "end_time": "2024-06-17T10:18:41.459253Z",
     "start_time": "2024-06-17T10:18:41.457261Z"
    }
   },
   "cell_type": "code",
   "source": "print(p_val < 0.05)",
   "id": "a98729b9b30cab8e",
   "outputs": [
    {
     "name": "stdout",
     "output_type": "stream",
     "text": [
      "[False False]\n"
     ]
    }
   ],
   "execution_count": 51
  },
  {
   "metadata": {},
   "cell_type": "markdown",
   "source": "Я не могу отвергнуть нулевую гипотезу (нет достаточных доказательств различия средних). Можно считать **средние двух групп** (ARPU) статистически сходными. То же верно и для **ARPPU**",
   "id": "b8d44d9472e6d676"
  },
  {
   "metadata": {
    "ExecuteTime": {
     "end_time": "2024-06-17T10:18:41.726152Z",
     "start_time": "2024-06-17T10:18:41.723745Z"
    }
   },
   "cell_type": "code",
   "source": "paying_a_group.shape",
   "id": "d4601df651c74f86",
   "outputs": [
    {
     "data": {
      "text/plain": [
       "(1928, 1)"
      ]
     },
     "execution_count": 52,
     "metadata": {},
     "output_type": "execute_result"
    }
   ],
   "execution_count": 52
  },
  {
   "metadata": {
    "ExecuteTime": {
     "end_time": "2024-06-17T10:18:41.894899Z",
     "start_time": "2024-06-17T10:18:41.891343Z"
    }
   },
   "cell_type": "code",
   "source": "t_stat, p_val = stats.ttest_ind(paying_a_group, paying_b_group)",
   "id": "fd6d7af3fd170322",
   "outputs": [],
   "execution_count": 53
  },
  {
   "metadata": {
    "ExecuteTime": {
     "end_time": "2024-06-17T10:18:42.037049Z",
     "start_time": "2024-06-17T10:18:42.034337Z"
    }
   },
   "cell_type": "code",
   "source": [
    "print(f\"t-статистика: {t_stat}\")\n",
    "print(f\"p-значение: {p_val}\")\n",
    "print(p_val < 0.05)"
   ],
   "id": "f97fc8eb700c9dd5",
   "outputs": [
    {
     "name": "stdout",
     "output_type": "stream",
     "text": [
      "t-статистика: [-1.59171002]\n",
      "p-значение: [0.11153459]\n",
      "[False]\n"
     ]
    }
   ],
   "execution_count": 54
  },
  {
   "metadata": {},
   "cell_type": "markdown",
   "source": [
    "Проверю **конверсии** с помощью хи-квадрата\n",
    "\n",
    "### Хи-квадрат\n",
    "\n",
    "**H0 гипотеза хи-квадрата**: Доля платящих пользователей одинакова в обеих группах  \n",
    "**H1 гипотеза хи-квадрата**: Доли платящих пользователей различаются между группами"
   ],
   "id": "1ac1bfda710036f3"
  },
  {
   "metadata": {
    "ExecuteTime": {
     "end_time": "2024-06-17T10:18:42.326500Z",
     "start_time": "2024-06-17T10:18:42.321370Z"
    }
   },
   "cell_type": "code",
   "source": "ab_tests_group_a.user_id.nunique()",
   "id": "49e08ae4da266d59",
   "outputs": [
    {
     "data": {
      "text/plain": [
       "202103"
      ]
     },
     "execution_count": 55,
     "metadata": {},
     "output_type": "execute_result"
    }
   ],
   "execution_count": 55
  },
  {
   "metadata": {
    "ExecuteTime": {
     "end_time": "2024-06-17T10:18:42.480647Z",
     "start_time": "2024-06-17T10:18:42.475253Z"
    }
   },
   "cell_type": "code",
   "source": [
    "a_users = ab_tests_group_a.user_id.nunique()\n",
    "a_users"
   ],
   "id": "ac7cdfabf930baf7",
   "outputs": [
    {
     "data": {
      "text/plain": [
       "202103"
      ]
     },
     "execution_count": 56,
     "metadata": {},
     "output_type": "execute_result"
    }
   ],
   "execution_count": 56
  },
  {
   "metadata": {
    "ExecuteTime": {
     "end_time": "2024-06-17T10:18:42.624048Z",
     "start_time": "2024-06-17T10:18:42.621484Z"
    }
   },
   "cell_type": "code",
   "source": [
    "non_paying_users_a = a_users - paying_users_group_a\n",
    "non_paying_users_a"
   ],
   "id": "1f9c68d0c7b59922",
   "outputs": [
    {
     "data": {
      "text/plain": [
       "200175"
      ]
     },
     "execution_count": 57,
     "metadata": {},
     "output_type": "execute_result"
    }
   ],
   "execution_count": 57
  },
  {
   "metadata": {
    "ExecuteTime": {
     "end_time": "2024-06-17T10:18:42.808568Z",
     "start_time": "2024-06-17T10:18:42.802565Z"
    }
   },
   "cell_type": "code",
   "source": [
    "b_users = ab_tests_group_b.user_id.nunique()\n",
    "b_users"
   ],
   "id": "2dc666db006fcc0b",
   "outputs": [
    {
     "data": {
      "text/plain": [
       "202667"
      ]
     },
     "execution_count": 58,
     "metadata": {},
     "output_type": "execute_result"
    }
   ],
   "execution_count": 58
  },
  {
   "metadata": {
    "ExecuteTime": {
     "end_time": "2024-06-17T10:18:42.933523Z",
     "start_time": "2024-06-17T10:18:42.931342Z"
    }
   },
   "cell_type": "code",
   "source": [
    "non_paying_users_b = b_users - paying_users_group_b\n",
    "non_paying_users_b"
   ],
   "id": "7585b7d539285d43",
   "outputs": [
    {
     "data": {
      "text/plain": [
       "200862"
      ]
     },
     "execution_count": 59,
     "metadata": {},
     "output_type": "execute_result"
    }
   ],
   "execution_count": 59
  },
  {
   "metadata": {
    "ExecuteTime": {
     "end_time": "2024-06-17T10:18:43.064641Z",
     "start_time": "2024-06-17T10:18:43.061911Z"
    }
   },
   "cell_type": "code",
   "source": [
    "contingency_table = np.array([[paying_users_group_a, non_paying_users_a], \n",
    "                               [paying_users_group_b, non_paying_users_b]])\n",
    "contingency_table"
   ],
   "id": "cfbe3993906ec7c5",
   "outputs": [
    {
     "data": {
      "text/plain": [
       "array([[  1928, 200175],\n",
       "       [  1805, 200862]])"
      ]
     },
     "execution_count": 60,
     "metadata": {},
     "output_type": "execute_result"
    }
   ],
   "execution_count": 60
  },
  {
   "metadata": {
    "ExecuteTime": {
     "end_time": "2024-06-17T10:18:43.226997Z",
     "start_time": "2024-06-17T10:18:43.223924Z"
    }
   },
   "cell_type": "code",
   "source": [
    "chi2_stat, p_val, dof, expected = stats.chi2_contingency(contingency_table)\n",
    "\n",
    "print(f\"Статистика хи-квадрат: {chi2_stat:.4f}\")\n",
    "print(f\"p-значение: {p_val:.4f}\")\n",
    "print(f\"Число степеней свободы: {dof}\")"
   ],
   "id": "e78a1c85aa4976cc",
   "outputs": [
    {
     "name": "stdout",
     "output_type": "stream",
     "text": [
      "Статистика хи-квадрат: 4.3747\n",
      "p-значение: 0.0365\n",
      "Число степеней свободы: 1\n"
     ]
    }
   ],
   "execution_count": 61
  },
  {
   "metadata": {},
   "cell_type": "markdown",
   "source": "Доли платящих пользователей различаются между группами. В практическом смысле есть стат.основания утверждать, что конверсия группы А выше конверсии группы B) ",
   "id": "691bff2f0c6d9b69"
  },
  {
   "metadata": {
    "ExecuteTime": {
     "end_time": "2024-06-17T10:18:43.492504Z",
     "start_time": "2024-06-17T10:18:43.490679Z"
    }
   },
   "cell_type": "code",
   "source": "print(conv_group_a, conv_group_b)",
   "id": "c42a641dd560bd69",
   "outputs": [
    {
     "name": "stdout",
     "output_type": "stream",
     "text": [
      "0.9539690157988748 0.8906235351586593\n"
     ]
    }
   ],
   "execution_count": 62
  },
  {
   "metadata": {},
   "cell_type": "markdown",
   "source": [
    "### Выводы\n",
    "\n",
    "- **T-тест** позволяет утверждать, что **средний доход обеих групп одинаков** (несмотря на то, что доход тестовой группы больше на **285414**\n",
    "- **Хи-квадрат** позволяет утверждать, что конверсия контрольной группы **больше на 6%**, но учитывая сходство среднего дохода, разница в конверсии не привела к значимому увеличению дохода. По сути, **группа А является предпочтительной**, а оснований выкатывать новые изменения нет\n",
    "- Среди платящих пользователей группы А есть 123 пользователя, которые делают б**о**льшую часть (89%) выручки. В группе также есть другие платящие пользователи, но их выручка составляет ~11%. В группе В нет такого большого разброса среди платящих пользователей. Если так произошло из-за использования особого предложения или по другим причинам, можно попробовать повторить это и провести а/б-тестирование разных предложений на других выборках пользователей\n",
    "- **Группа A привлекает больше платящих клиентов, чем группа B**, при одинаковом среднем чеке. Поэтому если наша цель - максимизировать количество платящих клиентов при сохранении текущего уровня средних платежей, то **набор предложений, тестировавшийся в группе A, также можно считать лучшим**"
   ],
   "id": "ba4211a86aa8c5a7"
  },
  {
   "metadata": {
    "ExecuteTime": {
     "end_time": "2024-06-17T10:18:43.841961Z",
     "start_time": "2024-06-17T10:18:43.840696Z"
    }
   },
   "cell_type": "code",
   "source": "",
   "id": "b3e97c99fdfafb38",
   "outputs": [],
   "execution_count": 62
  },
  {
   "metadata": {},
   "cell_type": "code",
   "outputs": [],
   "execution_count": null,
   "source": "",
   "id": "9c7a74b1d497a6d5"
  }
 ],
 "metadata": {
  "kernelspec": {
   "display_name": "Python 3",
   "language": "python",
   "name": "python3"
  },
  "language_info": {
   "codemirror_mode": {
    "name": "ipython",
    "version": 2
   },
   "file_extension": ".py",
   "mimetype": "text/x-python",
   "name": "python",
   "nbconvert_exporter": "python",
   "pygments_lexer": "ipython2",
   "version": "2.7.6"
  }
 },
 "nbformat": 4,
 "nbformat_minor": 5
}
