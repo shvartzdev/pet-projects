{
 "cells": [
  {
   "cell_type": "code",
   "id": "initial_id",
   "metadata": {
    "collapsed": true,
    "ExecuteTime": {
     "end_time": "2024-06-25T17:44:20.565895Z",
     "start_time": "2024-06-25T17:44:20.564147Z"
    }
   },
   "source": [
    "import pandas as pd \n",
    "import numpy as np\n",
    "import seaborn as sns\n",
    "import matplotlib.pyplot as plt\n",
    "\n",
    "import scipy.stats as stats"
   ],
   "outputs": [],
   "execution_count": 1
  },
  {
   "metadata": {},
   "cell_type": "markdown",
   "source": [
    "### Постановка задачи\n",
    "\n",
    "Дана выборка размером 290 человек с наблюдениями про IQ и пол. Нужно посчитать основные меры разброса, проверить данные на нормальность и, если данные распределены нормально, сравнить среднее значение IQ для каждого пола  \n",
    "\n",
    "Мы предполагаем, что IQ не отличается от пола, нужно проверить, так ли это\n",
    "\n",
    "### Используемые стат.тесты:   \n",
    "- тест Шапиро-Уилка для проверки на соответствие нормальному распределению \n",
    "- тест Левене для проверки гомогенности дисперсий\n",
    "- Т-тест для сравнения средних\n",
    "\n",
    "Для каждого теста в соответствующей части приведено описание нулевой и альтернативной гипотезы (H0 и H1), а также критерий сравнения `pvalue` с `alpha` и интерпретация\n",
    "\n",
    "### Общий пайплайн: \n",
    "- Получение данных, проверка на пропуски\n",
    "- Описательные статистики (меры центра и меры размаха)\n",
    "- Визуализация\n",
    "- Стат.тесты"
   ],
   "id": "c602e2641db49bf"
  },
  {
   "metadata": {
    "ExecuteTime": {
     "end_time": "2024-06-25T17:44:24.498922Z",
     "start_time": "2024-06-25T17:44:24.491841Z"
    }
   },
   "cell_type": "code",
   "source": "df = pd.read_csv('~/Documents/M/pets/data/N290.csv', sep=';')",
   "id": "3dc5a3963bd67077",
   "outputs": [],
   "execution_count": 2
  },
  {
   "metadata": {
    "ExecuteTime": {
     "end_time": "2024-06-25T17:44:25.424117Z",
     "start_time": "2024-06-25T17:44:25.409168Z"
    }
   },
   "cell_type": "code",
   "source": "df.head()",
   "id": "50d140bb9eb290f8",
   "outputs": [
    {
     "data": {
      "text/plain": [
       "    IQ  Sex\n",
       "0  100    1\n",
       "1  115    1\n",
       "2  128    1\n",
       "3  111    1\n",
       "4   99    1"
      ],
      "text/html": [
       "<div>\n",
       "<style scoped>\n",
       "    .dataframe tbody tr th:only-of-type {\n",
       "        vertical-align: middle;\n",
       "    }\n",
       "\n",
       "    .dataframe tbody tr th {\n",
       "        vertical-align: top;\n",
       "    }\n",
       "\n",
       "    .dataframe thead th {\n",
       "        text-align: right;\n",
       "    }\n",
       "</style>\n",
       "<table border=\"1\" class=\"dataframe\">\n",
       "  <thead>\n",
       "    <tr style=\"text-align: right;\">\n",
       "      <th></th>\n",
       "      <th>IQ</th>\n",
       "      <th>Sex</th>\n",
       "    </tr>\n",
       "  </thead>\n",
       "  <tbody>\n",
       "    <tr>\n",
       "      <th>0</th>\n",
       "      <td>100</td>\n",
       "      <td>1</td>\n",
       "    </tr>\n",
       "    <tr>\n",
       "      <th>1</th>\n",
       "      <td>115</td>\n",
       "      <td>1</td>\n",
       "    </tr>\n",
       "    <tr>\n",
       "      <th>2</th>\n",
       "      <td>128</td>\n",
       "      <td>1</td>\n",
       "    </tr>\n",
       "    <tr>\n",
       "      <th>3</th>\n",
       "      <td>111</td>\n",
       "      <td>1</td>\n",
       "    </tr>\n",
       "    <tr>\n",
       "      <th>4</th>\n",
       "      <td>99</td>\n",
       "      <td>1</td>\n",
       "    </tr>\n",
       "  </tbody>\n",
       "</table>\n",
       "</div>"
      ]
     },
     "execution_count": 3,
     "metadata": {},
     "output_type": "execute_result"
    }
   ],
   "execution_count": 3
  },
  {
   "metadata": {
    "ExecuteTime": {
     "end_time": "2024-06-25T17:44:26.467336Z",
     "start_time": "2024-06-25T17:44:26.461755Z"
    }
   },
   "cell_type": "code",
   "source": "df.shape",
   "id": "9ce1407492d923f5",
   "outputs": [
    {
     "data": {
      "text/plain": [
       "(290, 2)"
      ]
     },
     "execution_count": 4,
     "metadata": {},
     "output_type": "execute_result"
    }
   ],
   "execution_count": 4
  },
  {
   "metadata": {
    "ExecuteTime": {
     "end_time": "2024-06-25T17:44:26.952814Z",
     "start_time": "2024-06-25T17:44:26.947230Z"
    }
   },
   "cell_type": "code",
   "source": "df.dtypes",
   "id": "524277065c3795bc",
   "outputs": [
    {
     "data": {
      "text/plain": [
       "IQ     int64\n",
       "Sex    int64\n",
       "dtype: object"
      ]
     },
     "execution_count": 5,
     "metadata": {},
     "output_type": "execute_result"
    }
   ],
   "execution_count": 5
  },
  {
   "metadata": {
    "ExecuteTime": {
     "end_time": "2024-06-25T17:44:27.931210Z",
     "start_time": "2024-06-25T17:44:27.926162Z"
    }
   },
   "cell_type": "code",
   "source": "df.IQ.unique()",
   "id": "d57f2cd42730b887",
   "outputs": [
    {
     "data": {
      "text/plain": [
       "array([100, 115, 128, 111,  99, 119, 104, 109,  98,  94, 120, 114, 112,\n",
       "       102, 125, 116,  92, 107,  89, 124,  79,  97,  90,  83,  87, 126,\n",
       "        88, 127, 117,  85, 106, 123, 101, 105, 113, 130, 108, 121, 122,\n",
       "       103, 118,  62, 110,  84, 134,  95, 131, 133, 138,  91, 143,  93,\n",
       "       137, 140,  96, 132, 129, 148, 136])"
      ]
     },
     "execution_count": 6,
     "metadata": {},
     "output_type": "execute_result"
    }
   ],
   "execution_count": 6
  },
  {
   "metadata": {
    "ExecuteTime": {
     "end_time": "2024-06-25T17:44:28.426777Z",
     "start_time": "2024-06-25T17:44:28.423869Z"
    }
   },
   "cell_type": "code",
   "source": "df.Sex.unique()",
   "id": "9b945201a44a8d9c",
   "outputs": [
    {
     "data": {
      "text/plain": [
       "array([1, 2])"
      ]
     },
     "execution_count": 7,
     "metadata": {},
     "output_type": "execute_result"
    }
   ],
   "execution_count": 7
  },
  {
   "metadata": {
    "ExecuteTime": {
     "end_time": "2024-06-25T17:44:29.337743Z",
     "start_time": "2024-06-25T17:44:29.332931Z"
    }
   },
   "cell_type": "code",
   "source": "df.isna().sum()",
   "id": "66380a4803294d1c",
   "outputs": [
    {
     "data": {
      "text/plain": [
       "IQ     0\n",
       "Sex    0\n",
       "dtype: int64"
      ]
     },
     "execution_count": 8,
     "metadata": {},
     "output_type": "execute_result"
    }
   ],
   "execution_count": 8
  },
  {
   "metadata": {},
   "cell_type": "markdown",
   "source": "Данные без пропусков, включают в себя 290 записей с уровнем IQ и полом (1, 2).  ",
   "id": "a06782c511fa9999"
  },
  {
   "metadata": {},
   "cell_type": "markdown",
   "source": [
    "### Меры центра: \n",
    "Рассчитаем для данного набора данных:\n",
    "- моду\n",
    "- медиану\n",
    "- мат.ожидание"
   ],
   "id": "10c4d1776de63c87"
  },
  {
   "metadata": {
    "ExecuteTime": {
     "end_time": "2024-06-25T17:44:32.115267Z",
     "start_time": "2024-06-25T17:44:32.108159Z"
    }
   },
   "cell_type": "code",
   "source": "df.IQ.mode()",
   "id": "a2722a5da7cf9978",
   "outputs": [
    {
     "data": {
      "text/plain": [
       "0    111\n",
       "1    119\n",
       "Name: IQ, dtype: int64"
      ]
     },
     "execution_count": 9,
     "metadata": {},
     "output_type": "execute_result"
    }
   ],
   "execution_count": 9
  },
  {
   "metadata": {
    "ExecuteTime": {
     "end_time": "2024-06-25T17:44:33.282026Z",
     "start_time": "2024-06-25T17:44:33.276363Z"
    }
   },
   "cell_type": "code",
   "source": "df.IQ.median()",
   "id": "a7b67647f0b0f1d9",
   "outputs": [
    {
     "data": {
      "text/plain": [
       "112.0"
      ]
     },
     "execution_count": 10,
     "metadata": {},
     "output_type": "execute_result"
    }
   ],
   "execution_count": 10
  },
  {
   "metadata": {
    "ExecuteTime": {
     "end_time": "2024-06-25T17:44:34.452081Z",
     "start_time": "2024-06-25T17:44:34.448268Z"
    }
   },
   "cell_type": "code",
   "source": "df.IQ.mean()",
   "id": "7b207af36bbe5098",
   "outputs": [
    {
     "data": {
      "text/plain": [
       "111.58275862068966"
      ]
     },
     "execution_count": 11,
     "metadata": {},
     "output_type": "execute_result"
    }
   ],
   "execution_count": 11
  },
  {
   "metadata": {},
   "cell_type": "markdown",
   "source": [
    "### Меры размаха:\n",
    "- дисперсия\n",
    "- стандартное отклонение\n",
    "- размах"
   ],
   "id": "b635bbd09d6c52b1"
  },
  {
   "metadata": {
    "ExecuteTime": {
     "end_time": "2024-06-25T17:44:36.092576Z",
     "start_time": "2024-06-25T17:44:36.082966Z"
    }
   },
   "cell_type": "code",
   "source": "np.percentile(df.IQ, [0, 100])",
   "id": "8ef8446bae211a30",
   "outputs": [
    {
     "data": {
      "text/plain": [
       "array([ 62., 148.])"
      ]
     },
     "execution_count": 12,
     "metadata": {},
     "output_type": "execute_result"
    }
   ],
   "execution_count": 12
  },
  {
   "metadata": {
    "ExecuteTime": {
     "end_time": "2024-06-25T17:44:36.576172Z",
     "start_time": "2024-06-25T17:44:36.572131Z"
    }
   },
   "cell_type": "code",
   "source": "df.IQ.var()",
   "id": "25787ff8d7c2fd9c",
   "outputs": [
    {
     "data": {
      "text/plain": [
       "158.60385395537529"
      ]
     },
     "execution_count": 13,
     "metadata": {},
     "output_type": "execute_result"
    }
   ],
   "execution_count": 13
  },
  {
   "metadata": {
    "ExecuteTime": {
     "end_time": "2024-06-25T17:44:37.008886Z",
     "start_time": "2024-06-25T17:44:37.005491Z"
    }
   },
   "cell_type": "code",
   "source": "df.IQ.std()",
   "id": "3e3c8a875159db62",
   "outputs": [
    {
     "data": {
      "text/plain": [
       "12.593802204075436"
      ]
     },
     "execution_count": 14,
     "metadata": {},
     "output_type": "execute_result"
    }
   ],
   "execution_count": 14
  },
  {
   "metadata": {
    "ExecuteTime": {
     "end_time": "2024-06-25T17:44:38.012904Z",
     "start_time": "2024-06-25T17:44:38.002814Z"
    }
   },
   "cell_type": "code",
   "source": "df.describe()",
   "id": "6835ced2d0195665",
   "outputs": [
    {
     "data": {
      "text/plain": [
       "               IQ         Sex\n",
       "count  290.000000  290.000000\n",
       "mean   111.582759    1.462069\n",
       "std     12.593802    0.499421\n",
       "min     62.000000    1.000000\n",
       "25%    104.000000    1.000000\n",
       "50%    112.000000    1.000000\n",
       "75%    120.000000    2.000000\n",
       "max    148.000000    2.000000"
      ],
      "text/html": [
       "<div>\n",
       "<style scoped>\n",
       "    .dataframe tbody tr th:only-of-type {\n",
       "        vertical-align: middle;\n",
       "    }\n",
       "\n",
       "    .dataframe tbody tr th {\n",
       "        vertical-align: top;\n",
       "    }\n",
       "\n",
       "    .dataframe thead th {\n",
       "        text-align: right;\n",
       "    }\n",
       "</style>\n",
       "<table border=\"1\" class=\"dataframe\">\n",
       "  <thead>\n",
       "    <tr style=\"text-align: right;\">\n",
       "      <th></th>\n",
       "      <th>IQ</th>\n",
       "      <th>Sex</th>\n",
       "    </tr>\n",
       "  </thead>\n",
       "  <tbody>\n",
       "    <tr>\n",
       "      <th>count</th>\n",
       "      <td>290.000000</td>\n",
       "      <td>290.000000</td>\n",
       "    </tr>\n",
       "    <tr>\n",
       "      <th>mean</th>\n",
       "      <td>111.582759</td>\n",
       "      <td>1.462069</td>\n",
       "    </tr>\n",
       "    <tr>\n",
       "      <th>std</th>\n",
       "      <td>12.593802</td>\n",
       "      <td>0.499421</td>\n",
       "    </tr>\n",
       "    <tr>\n",
       "      <th>min</th>\n",
       "      <td>62.000000</td>\n",
       "      <td>1.000000</td>\n",
       "    </tr>\n",
       "    <tr>\n",
       "      <th>25%</th>\n",
       "      <td>104.000000</td>\n",
       "      <td>1.000000</td>\n",
       "    </tr>\n",
       "    <tr>\n",
       "      <th>50%</th>\n",
       "      <td>112.000000</td>\n",
       "      <td>1.000000</td>\n",
       "    </tr>\n",
       "    <tr>\n",
       "      <th>75%</th>\n",
       "      <td>120.000000</td>\n",
       "      <td>2.000000</td>\n",
       "    </tr>\n",
       "    <tr>\n",
       "      <th>max</th>\n",
       "      <td>148.000000</td>\n",
       "      <td>2.000000</td>\n",
       "    </tr>\n",
       "  </tbody>\n",
       "</table>\n",
       "</div>"
      ]
     },
     "execution_count": 15,
     "metadata": {},
     "output_type": "execute_result"
    }
   ],
   "execution_count": 15
  },
  {
   "metadata": {
    "ExecuteTime": {
     "end_time": "2024-06-25T17:44:39.316199Z",
     "start_time": "2024-06-25T17:44:39.016175Z"
    }
   },
   "cell_type": "code",
   "source": "sns.histplot(df.IQ, bins=40, kde=True)",
   "id": "69a3bf28b4d2bd31",
   "outputs": [
    {
     "data": {
      "text/plain": [
       "<Axes: xlabel='IQ', ylabel='Count'>"
      ]
     },
     "execution_count": 16,
     "metadata": {},
     "output_type": "execute_result"
    },
    {
     "data": {
      "text/plain": [
       "<Figure size 640x480 with 1 Axes>"
      ],
      "image/png": "[encoded data removed]"
     },
     "metadata": {},
     "output_type": "display_data"
    }
   ],
   "execution_count": 16
  },
  {
   "metadata": {
    "ExecuteTime": {
     "end_time": "2024-06-25T17:44:41.190875Z",
     "start_time": "2024-06-25T17:44:41.082630Z"
    }
   },
   "cell_type": "code",
   "source": "sns.boxplot(data=df, x=df.IQ, hue=df.Sex)",
   "id": "725a507ae58a6aea",
   "outputs": [
    {
     "data": {
      "text/plain": [
       "<Axes: xlabel='IQ'>"
      ]
     },
     "execution_count": 17,
     "metadata": {},
     "output_type": "execute_result"
    },
    {
     "data": {
      "text/plain": [
       "<Figure size 640x480 with 1 Axes>"
      ],
      "image/png": "[encoded data removed]"
     },
     "metadata": {},
     "output_type": "display_data"
    }
   ],
   "execution_count": 17
  },
  {
   "metadata": {
    "ExecuteTime": {
     "end_time": "2024-06-25T17:44:42.923521Z",
     "start_time": "2024-06-25T17:44:42.917967Z"
    }
   },
   "cell_type": "code",
   "source": "df.IQ.sort_values(ascending=False)",
   "id": "ea9beb5a29d6ad01",
   "outputs": [
    {
     "data": {
      "text/plain": [
       "227    148\n",
       "137    143\n",
       "170    140\n",
       "215    140\n",
       "127    138\n",
       "      ... \n",
       "112     84\n",
       "24      83\n",
       "95      83\n",
       "21      79\n",
       "96      62\n",
       "Name: IQ, Length: 290, dtype: int64"
      ]
     },
     "execution_count": 18,
     "metadata": {},
     "output_type": "execute_result"
    }
   ],
   "execution_count": 18
  },
  {
   "metadata": {},
   "cell_type": "markdown",
   "source": [
    "### Проведение стат.тестов\n",
    "alpha = 0.05"
   ],
   "id": "dc003b3571f5037b"
  },
  {
   "metadata": {
    "ExecuteTime": {
     "end_time": "2024-06-25T17:44:46.094821Z",
     "start_time": "2024-06-25T17:44:46.090337Z"
    }
   },
   "cell_type": "code",
   "source": "alpha = 0.05",
   "id": "a997ed90dff34d9d",
   "outputs": [],
   "execution_count": 19
  },
  {
   "metadata": {
    "ExecuteTime": {
     "end_time": "2024-06-25T17:44:46.553017Z",
     "start_time": "2024-06-25T17:44:46.546081Z"
    }
   },
   "cell_type": "code",
   "source": [
    "df_sex1 = df.query('Sex == 1')\n",
    "df_sex2 = df.query('Sex == 2')"
   ],
   "id": "b7aa6edd02005872",
   "outputs": [],
   "execution_count": 20
  },
  {
   "metadata": {},
   "cell_type": "markdown",
   "source": [
    "### Тест Шапиро-Уилка  \n",
    "**Нулевая гипотеза (H0)**: Данные распределены нормально  \n",
    "**Альтернативная гипотеза (H1)**: Данные распределены не нормально  \n",
    "\n",
    "**Критерий:**    \n",
    "Если `p-value < 0.05`, отклоняем H0 и заключаем, что данные не подчиняются нормальному распределению  \n",
    "Если `p-value >= 0.05`, не отклоняем H0 и заключаем, что данные распределены нормально\n"
   ],
   "id": "60aed3f1b607067d"
  },
  {
   "metadata": {
    "ExecuteTime": {
     "end_time": "2024-06-25T18:02:10.899403Z",
     "start_time": "2024-06-25T18:02:10.866582Z"
    }
   },
   "cell_type": "code",
   "source": [
    "statistic, pvalue = stats.shapiro(df_sex1.IQ)\n",
    "print(f\"Shapiro-Wilk Test for group Sex == 1: Statistic={statistic}, p-value={pvalue}\")\n",
    "print(f\"Is normal: {pvalue >= alpha}\")"
   ],
   "id": "4096aeea12b62614",
   "outputs": [
    {
     "name": "stdout",
     "output_type": "stream",
     "text": [
      "Shapiro-Wilk Test for group Sex == 1: Statistic=0.9879131857965562, p-value=0.19735266553507252\n",
      "Is normal: True\n"
     ]
    }
   ],
   "execution_count": 32
  },
  {
   "metadata": {
    "ExecuteTime": {
     "end_time": "2024-06-25T18:02:17.828971Z",
     "start_time": "2024-06-25T18:02:17.822207Z"
    }
   },
   "cell_type": "code",
   "source": [
    "statistic, pvalue = stats.shapiro(df_sex2.IQ)\n",
    "print(f\"Shapiro-Wilk Test for group Sex == 2: Statistic={statistic}, p-value={pvalue}\")\n",
    "print(f\"Is normal: {pvalue >= alpha}\")"
   ],
   "id": "106228bd309dfc19",
   "outputs": [
    {
     "name": "stdout",
     "output_type": "stream",
     "text": [
      "Shapiro-Wilk Test for group Sex == 2: Statistic=0.9829221687650157, p-value=0.09169347343596775\n",
      "Is normal: True\n"
     ]
    }
   ],
   "execution_count": 33
  },
  {
   "metadata": {
    "ExecuteTime": {
     "end_time": "2024-06-25T18:04:37.434308Z",
     "start_time": "2024-06-25T18:04:37.395014Z"
    }
   },
   "cell_type": "code",
   "source": [
    "statistic, pvalue = stats.shapiro(df.IQ)\n",
    "print(f\"Shapiro-Wilk Test for overall IQ: Statistic={statistic}, p-value={pvalue}\")\n",
    "print(f\"Is normal: {pvalue >= alpha}\")"
   ],
   "id": "d2f8103defd9fcd2",
   "outputs": [
    {
     "name": "stdout",
     "output_type": "stream",
     "text": [
      "Shapiro-Wilk Test for overall IQ: Statistic=0.9921895324841058, p-value=0.13071825014956623\n",
      "Is normal: True\n"
     ]
    }
   ],
   "execution_count": 34
  },
  {
   "metadata": {
    "ExecuteTime": {
     "end_time": "2024-06-25T18:05:15.201220Z",
     "start_time": "2024-06-25T18:05:14.928413Z"
    }
   },
   "cell_type": "code",
   "source": [
    "sns.histplot(df_sex1['IQ'], kde=True, label='Sex == 1', color='blue')\n",
    "sns.histplot(df_sex2['IQ'], kde=True, label='Sex == 2', color='red')\n",
    "plt.legend()\n",
    "plt.title(\"Distribution of IQ by Sex\")"
   ],
   "id": "3ca995272ddc11b4",
   "outputs": [
    {
     "data": {
      "text/plain": [
       "Text(0.5, 1.0, 'Distribution of IQ by Sex')"
      ]
     },
     "execution_count": 40,
     "metadata": {},
     "output_type": "execute_result"
    },
    {
     "data": {
      "text/plain": [
       "<Figure size 640x480 with 1 Axes>"
      ],
      "image/png": "[encoded data removed]"
     },
     "metadata": {},
     "output_type": "display_data"
    }
   ],
   "execution_count": 40
  },
  {
   "metadata": {
    "ExecuteTime": {
     "end_time": "2024-06-25T18:05:48.662708Z",
     "start_time": "2024-06-25T18:05:48.552540Z"
    }
   },
   "cell_type": "code",
   "source": [
    "stats.probplot(df_sex1.IQ, dist=\"norm\", plot=plt)\n",
    "plt.title(\"Q-Q Plot for group Sex == 1\")"
   ],
   "id": "34173f3f6a62579d",
   "outputs": [
    {
     "data": {
      "text/plain": [
       "Text(0.5, 1.0, 'Q-Q Plot for group Sex == 1')"
      ]
     },
     "execution_count": 43,
     "metadata": {},
     "output_type": "execute_result"
    },
    {
     "data": {
      "text/plain": [
       "<Figure size 640x480 with 1 Axes>"
      ],
      "image/png": "[encoded data removed]"
     },
     "metadata": {},
     "output_type": "display_data"
    }
   ],
   "execution_count": 43
  },
  {
   "metadata": {
    "ExecuteTime": {
     "end_time": "2024-06-25T18:05:55.359708Z",
     "start_time": "2024-06-25T18:05:55.226326Z"
    }
   },
   "cell_type": "code",
   "source": [
    "stats.probplot(df_sex2.IQ, dist=\"norm\", plot=plt)\n",
    "plt.title(\"Q-Q Plot for group Sex == 2\")"
   ],
   "id": "3bfc49e841bfcffd",
   "outputs": [
    {
     "data": {
      "text/plain": [
       "Text(0.5, 1.0, 'Q-Q Plot for group Sex == 2')"
      ]
     },
     "execution_count": 44,
     "metadata": {},
     "output_type": "execute_result"
    },
    {
     "data": {
      "text/plain": [
       "<Figure size 640x480 with 1 Axes>"
      ],
      "image/png": "[encoded data removed]"
     },
     "metadata": {},
     "output_type": "display_data"
    }
   ],
   "execution_count": 44
  },
  {
   "metadata": {},
   "cell_type": "markdown",
   "source": [
    "### Тест Левене:   \n",
    "**Нулевая гипотеза (H0)**: Дисперсии в группах равны (дисперсии гомогенны)  \n",
    "**Альтернативная гипотеза (H1)**: Дисперсии в группах не равны  \n",
    "\n",
    "**Критерий:**    \n",
    "Если `p-value < 0.05`, отклоняем H0 и заключаем, что дисперсии не равны  \n",
    "Если `p-value >= 0.05`, не отклоняем H0 и заключаем, что дисперсии равны"
   ],
   "id": "c1478b9b6e52632c"
  },
  {
   "metadata": {
    "ExecuteTime": {
     "end_time": "2024-06-25T18:06:52.135582Z",
     "start_time": "2024-06-25T18:06:52.123809Z"
    }
   },
   "cell_type": "code",
   "source": [
    "statistic, pvalue = stats.levene(df_sex1.IQ, df_sex2.IQ)\n",
    "print(f\"Levene's Test for equal variances: Statistic={statistic}, p-value={pvalue}\")\n",
    "print(f\"Equal variances: {pvalue >= alpha}\")"
   ],
   "id": "11aec668e0cf7363",
   "outputs": [
    {
     "name": "stdout",
     "output_type": "stream",
     "text": [
      "Levene's Test for equal variances: Statistic=1.6197091183643144, p-value=0.20415881281006729\n",
      "Equal variances: True\n"
     ]
    }
   ],
   "execution_count": 45
  },
  {
   "metadata": {},
   "cell_type": "markdown",
   "source": [
    "### T-test  \n",
    "**Нулевая гипотеза H0**: средние значения в двух группах равны   \n",
    "**Альтернативая гипотеза H1**: средние значения в двух группах не равны  \n",
    "\n",
    "**Критерий:**    \n",
    "Если `p-value < 0.05`, отклоняем H0 и заключаем, что средние значения в группах значимо различаются  \n",
    "Если `p-value >= 0.05`, не отклоняем H0 и заключаем, что средние значения в группах не имеют значимых различий  \n"
   ],
   "id": "8e19b0c85c1d5200"
  },
  {
   "metadata": {
    "ExecuteTime": {
     "end_time": "2024-06-25T18:07:52.232280Z",
     "start_time": "2024-06-25T18:07:52.220931Z"
    }
   },
   "cell_type": "code",
   "source": [
    "statistic, pvalue = stats.ttest_ind(df_sex1.IQ, df_sex2.IQ)\n",
    "print(f\"T-test: Statistic={statistic}, p-value={pvalue}\")\n",
    "print(f\"Mean equality: {pvalue >= alpha}\")"
   ],
   "id": "cb5b0a77e8d0b2c2",
   "outputs": [
    {
     "name": "stdout",
     "output_type": "stream",
     "text": [
      "T-test: Statistic=-0.21391482325494063, p-value=0.8307648464024591\n",
      "Mean equality: True\n"
     ]
    }
   ],
   "execution_count": 46
  },
  {
   "metadata": {
    "ExecuteTime": {
     "end_time": "2024-06-25T18:07:59.361385Z",
     "start_time": "2024-06-25T18:07:59.357433Z"
    }
   },
   "cell_type": "code",
   "source": [
    "mean_sex1 = df_sex1.IQ.mean()\n",
    "mean_sex2 = df_sex2.IQ.mean()\n",
    "print(f\"Mean IQ for Sex == 1: {mean_sex1}\")\n",
    "print(f\"Mean IQ for Sex == 2: {mean_sex2}\")"
   ],
   "id": "bb602f081ec6673f",
   "outputs": [
    {
     "name": "stdout",
     "output_type": "stream",
     "text": [
      "Mean IQ for Sex == 1: 111.43589743589743\n",
      "Mean IQ for Sex == 2: 111.75373134328358\n"
     ]
    }
   ],
   "execution_count": 47
  },
  {
   "metadata": {},
   "cell_type": "markdown",
   "source": [
    "### Выводы\n",
    "\n",
    "- Тест Шапиро-Уилка позволяет заключить, что данные в обеих группах распределены нормально. Тест Левене говорит, что дисперсии гомогенны. Значит мы можем использовать параметрические тесты (например, T-test)\n",
    "- Результаты T-теста позволяют заключить, что средний показатель IQ в данном исследовании одинаков для обоих полов. Мы не можем сделать значимых различий между уровнем IQ в разных группах"
   ],
   "id": "a19138a9c5b060b6"
  }
 ],
 "metadata": {
  "kernelspec": {
   "display_name": "Python 3",
   "language": "python",
   "name": "python3"
  },
  "language_info": {
   "codemirror_mode": {
    "name": "ipython",
    "version": 2
   },
   "file_extension": ".py",
   "mimetype": "text/x-python",
   "name": "python",
   "nbconvert_exporter": "python",
   "pygments_lexer": "ipython2",
   "version": "2.7.6"
  }
 },
 "nbformat": 4,
 "nbformat_minor": 5
}
