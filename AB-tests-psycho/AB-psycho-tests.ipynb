{
 "cells": [
  {
   "metadata": {},
   "cell_type": "markdown",
   "source": [
    "Исследовалось влияние конфликтов с родителями на уровень тревожности подростков. По частоте конфликтов подростков разделяли на тех, у кого практически не бывает конфликтов с родителями (в таблице они закодированы 1), тех, у кого они бывают иногда (закодированы 2), и тех, кто конфликтует постоянно (код 3). Уровень тревожности оценивался при помощи опросника Спилбергера-Ханина. \n",
    "\n",
    "Можно ли утверждать, что уровень тревожности различается в различных группах подростков. Как? Предложите содержательную интерпретацию полученных результатов."
   ],
   "id": "ce056c0ec5d44095"
  },
  {
   "metadata": {
    "ExecuteTime": {
     "end_time": "2024-06-21T13:28:56.881004Z",
     "start_time": "2024-06-21T13:28:56.879438Z"
    }
   },
   "cell_type": "code",
   "source": [
    "import pandas as pd\n",
    "import seaborn as sns"
   ],
   "id": "43e72ed1494cf49f",
   "outputs": [],
   "execution_count": 1
  },
  {
   "metadata": {
    "ExecuteTime": {
     "end_time": "2024-06-21T13:15:12.899842Z",
     "start_time": "2024-06-21T13:15:12.892776Z"
    }
   },
   "cell_type": "code",
   "source": "df = pd.read_csv('~/Documents/M/pets/data/psycho_data.csv', sep=';')",
   "id": "6a0951b151393d25",
   "outputs": [],
   "execution_count": 4
  },
  {
   "metadata": {
    "ExecuteTime": {
     "end_time": "2024-06-21T13:15:13.832775Z",
     "start_time": "2024-06-21T13:15:13.822857Z"
    }
   },
   "cell_type": "code",
   "source": "df.head()",
   "id": "f95d101d8f5aa92c",
   "outputs": [
    {
     "data": {
      "text/plain": [
       "   conflict level  anxiety level\n",
       "0               1             11\n",
       "1               1             16\n",
       "2               1             15\n",
       "3               1             16\n",
       "4               1             11"
      ],
      "text/html": [
       "<div>\n",
       "<style scoped>\n",
       "    .dataframe tbody tr th:only-of-type {\n",
       "        vertical-align: middle;\n",
       "    }\n",
       "\n",
       "    .dataframe tbody tr th {\n",
       "        vertical-align: top;\n",
       "    }\n",
       "\n",
       "    .dataframe thead th {\n",
       "        text-align: right;\n",
       "    }\n",
       "</style>\n",
       "<table border=\"1\" class=\"dataframe\">\n",
       "  <thead>\n",
       "    <tr style=\"text-align: right;\">\n",
       "      <th></th>\n",
       "      <th>conflict level</th>\n",
       "      <th>anxiety level</th>\n",
       "    </tr>\n",
       "  </thead>\n",
       "  <tbody>\n",
       "    <tr>\n",
       "      <th>0</th>\n",
       "      <td>1</td>\n",
       "      <td>11</td>\n",
       "    </tr>\n",
       "    <tr>\n",
       "      <th>1</th>\n",
       "      <td>1</td>\n",
       "      <td>16</td>\n",
       "    </tr>\n",
       "    <tr>\n",
       "      <th>2</th>\n",
       "      <td>1</td>\n",
       "      <td>15</td>\n",
       "    </tr>\n",
       "    <tr>\n",
       "      <th>3</th>\n",
       "      <td>1</td>\n",
       "      <td>16</td>\n",
       "    </tr>\n",
       "    <tr>\n",
       "      <th>4</th>\n",
       "      <td>1</td>\n",
       "      <td>11</td>\n",
       "    </tr>\n",
       "  </tbody>\n",
       "</table>\n",
       "</div>"
      ]
     },
     "execution_count": 5,
     "metadata": {},
     "output_type": "execute_result"
    }
   ],
   "execution_count": 5
  },
  {
   "metadata": {
    "ExecuteTime": {
     "end_time": "2024-06-21T13:15:18.911035Z",
     "start_time": "2024-06-21T13:15:18.906489Z"
    }
   },
   "cell_type": "code",
   "source": "df.shape",
   "id": "b45b8b4abeda05d4",
   "outputs": [
    {
     "data": {
      "text/plain": [
       "(39, 2)"
      ]
     },
     "execution_count": 6,
     "metadata": {},
     "output_type": "execute_result"
    }
   ],
   "execution_count": 6
  },
  {
   "metadata": {
    "ExecuteTime": {
     "end_time": "2024-06-17T10:37:34.318472Z",
     "start_time": "2024-06-17T10:37:34.313649Z"
    }
   },
   "cell_type": "code",
   "source": "df.columns",
   "id": "f69d0dff244bc7a5",
   "outputs": [
    {
     "data": {
      "text/plain": [
       "Index(['conflict level', 'anxiety level'], dtype='object')"
      ]
     },
     "execution_count": 23,
     "metadata": {},
     "output_type": "execute_result"
    }
   ],
   "execution_count": 23
  },
  {
   "metadata": {
    "ExecuteTime": {
     "end_time": "2024-06-17T10:37:35.356270Z",
     "start_time": "2024-06-17T10:37:35.354190Z"
    }
   },
   "cell_type": "code",
   "source": [
    "df.rename(columns={'conflict level': 'conflict_level', \n",
    "                   'anxiety level':'anxiety_level'}, inplace=True)"
   ],
   "id": "edd5a5d9ee63a18f",
   "outputs": [],
   "execution_count": 24
  },
  {
   "metadata": {
    "ExecuteTime": {
     "end_time": "2024-06-17T10:37:36.980298Z",
     "start_time": "2024-06-17T10:37:36.974118Z"
    }
   },
   "cell_type": "code",
   "source": "df.head()",
   "id": "eadf7c37c901ee47",
   "outputs": [
    {
     "data": {
      "text/plain": [
       "   conflict_level  anxiety_level\n",
       "0               1             11\n",
       "1               1             16\n",
       "2               1             15\n",
       "3               1             16\n",
       "4               1             11"
      ],
      "text/html": [
       "<div>\n",
       "<style scoped>\n",
       "    .dataframe tbody tr th:only-of-type {\n",
       "        vertical-align: middle;\n",
       "    }\n",
       "\n",
       "    .dataframe tbody tr th {\n",
       "        vertical-align: top;\n",
       "    }\n",
       "\n",
       "    .dataframe thead th {\n",
       "        text-align: right;\n",
       "    }\n",
       "</style>\n",
       "<table border=\"1\" class=\"dataframe\">\n",
       "  <thead>\n",
       "    <tr style=\"text-align: right;\">\n",
       "      <th></th>\n",
       "      <th>conflict_level</th>\n",
       "      <th>anxiety_level</th>\n",
       "    </tr>\n",
       "  </thead>\n",
       "  <tbody>\n",
       "    <tr>\n",
       "      <th>0</th>\n",
       "      <td>1</td>\n",
       "      <td>11</td>\n",
       "    </tr>\n",
       "    <tr>\n",
       "      <th>1</th>\n",
       "      <td>1</td>\n",
       "      <td>16</td>\n",
       "    </tr>\n",
       "    <tr>\n",
       "      <th>2</th>\n",
       "      <td>1</td>\n",
       "      <td>15</td>\n",
       "    </tr>\n",
       "    <tr>\n",
       "      <th>3</th>\n",
       "      <td>1</td>\n",
       "      <td>16</td>\n",
       "    </tr>\n",
       "    <tr>\n",
       "      <th>4</th>\n",
       "      <td>1</td>\n",
       "      <td>11</td>\n",
       "    </tr>\n",
       "  </tbody>\n",
       "</table>\n",
       "</div>"
      ]
     },
     "execution_count": 25,
     "metadata": {},
     "output_type": "execute_result"
    }
   ],
   "execution_count": 25
  },
  {
   "metadata": {
    "ExecuteTime": {
     "end_time": "2024-06-17T10:39:02.528541Z",
     "start_time": "2024-06-17T10:39:02.515631Z"
    }
   },
   "cell_type": "code",
   "source": "df.conflict_level.unique()",
   "id": "1980d61bcbc1c7e4",
   "outputs": [
    {
     "data": {
      "text/plain": [
       "array([1, 2, 3])"
      ]
     },
     "execution_count": 31,
     "metadata": {},
     "output_type": "execute_result"
    }
   ],
   "execution_count": 31
  },
  {
   "metadata": {
    "ExecuteTime": {
     "end_time": "2024-06-17T10:39:08.796161Z",
     "start_time": "2024-06-17T10:39:08.779276Z"
    }
   },
   "cell_type": "code",
   "source": "df.conflict_level.value_counts()",
   "id": "79bf0ee4d28d6e33",
   "outputs": [
    {
     "data": {
      "text/plain": [
       "conflict_level\n",
       "1    13\n",
       "2    13\n",
       "3    13\n",
       "Name: count, dtype: int64"
      ]
     },
     "execution_count": 32,
     "metadata": {},
     "output_type": "execute_result"
    }
   ],
   "execution_count": 32
  },
  {
   "metadata": {},
   "cell_type": "code",
   "outputs": [],
   "execution_count": null,
   "source": "",
   "id": "c6de95ffd695f85d"
  },
  {
   "metadata": {
    "ExecuteTime": {
     "end_time": "2024-06-17T10:39:13.884965Z",
     "start_time": "2024-06-17T10:39:13.873256Z"
    }
   },
   "cell_type": "code",
   "source": "df.anxiety_level.unique()",
   "id": "90828e47f288463e",
   "outputs": [
    {
     "data": {
      "text/plain": [
       "array([11, 16, 15, 12, 14, 17, 13, 18])"
      ]
     },
     "execution_count": 33,
     "metadata": {},
     "output_type": "execute_result"
    }
   ],
   "execution_count": 33
  },
  {
   "metadata": {
    "ExecuteTime": {
     "end_time": "2024-06-17T10:39:45.386940Z",
     "start_time": "2024-06-17T10:39:45.381097Z"
    }
   },
   "cell_type": "code",
   "source": "df.anxiety_level.value_counts()",
   "id": "ef89f26acea68820",
   "outputs": [
    {
     "data": {
      "text/plain": [
       "anxiety_level\n",
       "16    8\n",
       "15    7\n",
       "12    6\n",
       "14    5\n",
       "18    5\n",
       "11    4\n",
       "17    2\n",
       "13    2\n",
       "Name: count, dtype: int64"
      ]
     },
     "execution_count": 37,
     "metadata": {},
     "output_type": "execute_result"
    }
   ],
   "execution_count": 37
  },
  {
   "metadata": {
    "ExecuteTime": {
     "end_time": "2024-06-17T10:42:46.349626Z",
     "start_time": "2024-06-17T10:42:46.344439Z"
    }
   },
   "cell_type": "code",
   "source": "",
   "id": "d630f7ee260e600c",
   "outputs": [],
   "execution_count": 43
  },
  {
   "metadata": {
    "ExecuteTime": {
     "end_time": "2024-06-17T10:44:18.844145Z",
     "start_time": "2024-06-17T10:44:18.726880Z"
    }
   },
   "cell_type": "code",
   "source": "sns.histplot(df.anxiety_level)",
   "id": "f25708f6bab9dbae",
   "outputs": [
    {
     "data": {
      "text/plain": [
       "<Axes: xlabel='anxiety_level', ylabel='Count'>"
      ]
     },
     "execution_count": 47,
     "metadata": {},
     "output_type": "execute_result"
    },
    {
     "data": {
      "text/plain": [
       "<Figure size 640x480 with 1 Axes>"
      ],
      "image/png": "[encoded data removed]"
     },
     "metadata": {},
     "output_type": "display_data"
    }
   ],
   "execution_count": 47
  },
  {
   "metadata": {
    "ExecuteTime": {
     "end_time": "2024-06-17T10:44:31.699603Z",
     "start_time": "2024-06-17T10:44:31.583289Z"
    }
   },
   "cell_type": "code",
   "source": "sns.histplot(df.conflict_level)",
   "id": "e4a8d77e65b8c853",
   "outputs": [
    {
     "data": {
      "text/plain": [
       "<Axes: xlabel='conflict_level', ylabel='Count'>"
      ]
     },
     "execution_count": 49,
     "metadata": {},
     "output_type": "execute_result"
    },
    {
     "data": {
      "text/plain": [
       "<Figure size 640x480 with 1 Axes>"
      ],
      "image/png": "[encoded data removed]"
     },
     "metadata": {},
     "output_type": "display_data"
    }
   ],
   "execution_count": 49
  },
  {
   "metadata": {},
   "cell_type": "markdown",
   "source": [
    "1. Проверить нормальность распределения\n",
    "2. Проверить гомогенность дисперсий\n",
    "3. Провести дисперсионный анализ"
   ],
   "id": "e902f88c98b1d829"
  },
  {
   "metadata": {
    "ExecuteTime": {
     "end_time": "2024-06-17T10:52:54.033556Z",
     "start_time": "2024-06-17T10:52:54.019408Z"
    }
   },
   "cell_type": "code",
   "source": [
    "import scipy.stats as stats\n",
    "\n",
    "for level in df['conflict_level'].unique():\n",
    "    group = df[df['conflict_level'] == level]['anxiety_level']\n",
    "    shapiro_test = stats.shapiro(group)\n",
    "    print(f'Shapiro-Wilk Test for Group {level}: {shapiro_test}')"
   ],
   "id": "a88fe550dbbf7d4d",
   "outputs": [
    {
     "name": "stdout",
     "output_type": "stream",
     "text": [
      "Shapiro-Wilk Test for Group 1: ShapiroResult(statistic=0.8253127510376944, pvalue=0.01384287002850645)\n",
      "Shapiro-Wilk Test for Group 2: ShapiroResult(statistic=0.8851740333054305, pvalue=0.08382986855020516)\n",
      "Shapiro-Wilk Test for Group 3: ShapiroResult(statistic=0.9569779391593659, pvalue=0.7065650572431919)\n"
     ]
    }
   ],
   "execution_count": 53
  },
  {
   "metadata": {
    "ExecuteTime": {
     "end_time": "2024-06-17T10:53:23.133739Z",
     "start_time": "2024-06-17T10:53:23.117834Z"
    }
   },
   "cell_type": "code",
   "source": [
    "levene_test = stats.levene(df[df['conflict_level'] == 1]['anxiety_level'],\n",
    "                           df[df['conflict_level'] == 2]['anxiety_level'],\n",
    "                           df[df['conflict_level'] == 3]['anxiety_level'])\n",
    "print(f'Levene\\'s Test for Equality of Variances: {levene_test}')"
   ],
   "id": "a2d37ad7763015f6",
   "outputs": [
    {
     "name": "stdout",
     "output_type": "stream",
     "text": [
      "Levene's Test for Equality of Variances: LeveneResult(statistic=0.054919908466819156, pvalue=0.9466401047351786)\n"
     ]
    }
   ],
   "execution_count": 54
  },
  {
   "metadata": {
    "ExecuteTime": {
     "end_time": "2024-06-17T10:54:25.145726Z",
     "start_time": "2024-06-17T10:54:25.124796Z"
    }
   },
   "cell_type": "code",
   "source": [
    "kruskal_test = stats.kruskal(df[df['conflict_level'] == 1]['anxiety_level'],\n",
    "                             df[df['conflict_level'] == 2]['anxiety_level'],\n",
    "                             df[df['conflict_level'] == 3]['anxiety_level'])\n",
    "print(f'Kruskal-Wallis Test: {kruskal_test}')"
   ],
   "id": "2ddbee6071616004",
   "outputs": [
    {
     "name": "stdout",
     "output_type": "stream",
     "text": [
      "Kruskal-Wallis Test: KruskalResult(statistic=8.31864147455155, pvalue=0.015618163153756288)\n"
     ]
    }
   ],
   "execution_count": 55
  },
  {
   "metadata": {},
   "cell_type": "markdown",
   "source": "Существуют значимые различия между группами",
   "id": "41f2ace22f985456"
  },
  {
   "metadata": {
    "ExecuteTime": {
     "end_time": "2024-06-17T10:56:19.179022Z",
     "start_time": "2024-06-17T10:56:19.163209Z"
    }
   },
   "cell_type": "code",
   "source": [
    "if kruskal_test.pvalue < 0.05:\n",
    "    print(\"Уровень тревожности статистически значимо различается между группами.\")\n",
    "    \n",
    "    alpha = 0.05 / 3  \n",
    "\n",
    "    # Сравнение 1 vs 2\n",
    "    u_stat, p_value = stats.mannwhitneyu(df[df['conflict_level'] == 1]['anxiety_level'],\n",
    "                                         df[df['conflict_level'] == 2]['anxiety_level'])\n",
    "    print(f'1 vs 2: p-value = {p_value}, significant = {p_value < alpha}')\n",
    "\n",
    "    # Сравнение 1 vs 3\n",
    "    u_stat, p_value = stats.mannwhitneyu(df[df['conflict_level'] == 1]['anxiety_level'],\n",
    "                                         df[df['conflict_level'] == 3]['anxiety_level'])\n",
    "    print(f'1 vs 3: p-value = {p_value}, significant = {p_value < alpha}')\n",
    "\n",
    "    # Сравнение 2 vs 3\n",
    "    u_stat, p_value = stats.mannwhitneyu(df[df['conflict_level'] == 2]['anxiety_level'],\n",
    "                                         df[df['conflict_level'] == 3]['anxiety_level'])\n",
    "    print(f'2 vs 3: p-value = {p_value}, significant = {p_value < alpha}')\n",
    "else:\n",
    "    print(\"Нет статистически значимого различия в уровнях тревожности между группами.\")"
   ],
   "id": "115c646e89bd90f4",
   "outputs": [
    {
     "name": "stdout",
     "output_type": "stream",
     "text": [
      "Уровень тревожности статистически значимо различается между группами.\n",
      "1 vs 2: p-value = 0.009387185799765378, significant = True\n",
      "1 vs 3: p-value = 0.9169539932657004, significant = False\n",
      "2 vs 3: p-value = 0.020985704550366396, significant = False\n"
     ]
    }
   ],
   "execution_count": 57
  },
  {
   "metadata": {},
   "cell_type": "markdown",
   "source": [
    "1 и 2: уровень тревожности значимо выше у тех, кто *иногда* конфликтует с родителями\n",
    "1 и 3: уровень тревожности не отличается\n",
    "2 и 3: уровень трежности не отличается\n",
    "\n",
    "Возможная интерпретация:\n",
    "Наличие конфликтов само по себе влияет на уровень тревожности, но когда конфликты становятся постоянными, подростки могут каким-то образом адаптироваться или другими способами справляться со стрессом, что нивелирует различие в тревожности по сравнению с группой, у которой конфликты бывают только иногда. "
   ],
   "id": "cc25e906642b1ffa"
  },
  {
   "metadata": {},
   "cell_type": "code",
   "outputs": [],
   "execution_count": null,
   "source": "",
   "id": "3f3224d0f7c972fb"
  }
 ],
 "metadata": {
  "kernelspec": {
   "display_name": "Python 3",
   "language": "python",
   "name": "python3"
  },
  "language_info": {
   "codemirror_mode": {
    "name": "ipython",
    "version": 2
   },
   "file_extension": ".py",
   "mimetype": "text/x-python",
   "name": "python",
   "nbconvert_exporter": "python",
   "pygments_lexer": "ipython2",
   "version": "2.7.6"
  }
 },
 "nbformat": 4,
 "nbformat_minor": 5
}
